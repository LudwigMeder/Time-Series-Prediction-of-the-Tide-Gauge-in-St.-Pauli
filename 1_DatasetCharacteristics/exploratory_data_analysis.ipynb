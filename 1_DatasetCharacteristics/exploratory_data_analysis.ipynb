{
 "cells": [
  {
   "cell_type": "markdown",
   "metadata": {},
   "source": [
    "# Exploratory Data Analysis (EDA)\n",
    "\n",
    "## Table of Contents\n",
    "1. [Dataset Overview](#dataset-overview)\n",
    "2. [Handling Missing Values](#handling-missing-values)\n",
    "3. [Feature Distributions](#feature-distributions)\n",
    "4. [Possible Biases](#possible-biases)\n",
    "5. [Correlations](#correlations)\n"
   ]
  },
  {
   "cell_type": "code",
   "execution_count": 5,
   "metadata": {},
   "outputs": [],
   "source": [
    "# Import necessary libraries\n",
    "import pandas as pd\n",
    "import numpy as np\n",
    "import matplotlib.pyplot as plt\n",
    "import seaborn as sns\n"
   ]
  },
  {
   "cell_type": "markdown",
   "metadata": {},
   "source": [
    "## Dataset Overview\n",
    "The dataset comprises two sets of data. Initially, we utilized water level data from the weather station in St. Pauli. This dataset records water levels minutely and has been collected since 1999. It is accessible for free through [hydroonline.hpanet.de](https://).\n",
    "\n",
    "Additionally, we incorporated wind data from the Island Helgoland in the German bay. This dataset records wind data hourly and has been collected since 1959. It is freely available at [opendata.dwd.de](https://).\n",
    "\n",
    "After cleaning and merging these datasets, our combined dataset contained 196,521 data points, which spans approximately 22 years."
   ]
  },
  {
   "cell_type": "code",
   "execution_count": 6,
   "metadata": {},
   "outputs": [],
   "source": [
    "# Import libaries\n",
    "import pandas as pd\n",
    "import matplotlib.pyplot as plt\n",
    "import os\n",
    "import numpy as np"
   ]
  },
  {
   "cell_type": "markdown",
   "metadata": {},
   "source": [
    "### Tide Data"
   ]
  },
  {
   "cell_type": "markdown",
   "metadata": {},
   "source": [
    "#### Import The Data\n",
    "The tide data is only available in chunks of one year. These have to be stored in one file."
   ]
  },
  {
   "cell_type": "code",
   "execution_count": 7,
   "metadata": {},
   "outputs": [],
   "source": [
    "# Setting file path\n",
    "tide_folder_path = r'C:\\Users\\Hanne\\Documents\\Studium\\Semester 4\\Machine Learning\\Projekt\\Pegelstände'#r'1_DatasetCharacteristics/Data'"
   ]
  },
  {
   "cell_type": "code",
   "execution_count": 8,
   "metadata": {},
   "outputs": [],
   "source": [
    "# Define header and footer lenght\n",
    "skip_rows = 18\n",
    "skip_footer = 3\n",
    "\n",
    "# Define column names\n",
    "column_names = ['Date_Time', 'Water_Level', 'Reference', 'OffsetToNN']\n",
    "\n",
    "# List to store individual DataFrames\n",
    "dfs = []\n",
    "\n",
    "# Iterate through files in the folder\n",
    "for filename in os.listdir(tide_folder_path):\n",
    "    if filename.endswith(\".csv\"):  # Assuming all files have the .csv extension\n",
    "        file_path = os.path.join(tide_folder_path, filename)\n",
    "        df = pd.read_csv(file_path,skipfooter = skip_footer,skiprows =  skip_rows,sep=';', names=column_names , decimal=',', engine= \"python\")\n",
    "        dfs.append(df)\n",
    "\n",
    "# Concatenate the tide data along the rows\n",
    "tide_data_raw = pd.DataFrame(pd.concat(dfs, axis=0, ignore_index=True))"
   ]
  },
  {
   "cell_type": "code",
   "execution_count": 9,
   "metadata": {},
   "outputs": [
    {
     "name": "stdout",
     "output_type": "stream",
     "text": [
      "             Date_Time  Water_Level\n",
      "0  1999-01-01 00:00:00          NaN\n",
      "1  1999-01-01 00:01:00          NaN\n",
      "2  1999-01-01 00:02:00          NaN\n",
      "3  1999-01-01 00:03:00          NaN\n",
      "4  1999-01-01 00:04:00          NaN\n",
      "\n",
      "The total length of the tide data is: 13044960 minutes\n"
     ]
    }
   ],
   "source": [
    "# Extract time and water level columns\n",
    "tide_data = tide_data_raw[['Date_Time', 'Water_Level']]\n",
    "print(tide_data.head())\n",
    "lenght = len(tide_data['Date_Time'])\n",
    "print(f'\\nThe total length of the tide data is: {lenght} minutes')"
   ]
  },
  {
   "cell_type": "markdown",
   "metadata": {},
   "source": [
    "#### Cleaning The Data"
   ]
  },
  {
   "cell_type": "code",
   "execution_count": 10,
   "metadata": {},
   "outputs": [
    {
     "name": "stderr",
     "output_type": "stream",
     "text": [
      "C:\\Users\\Hanne\\AppData\\Local\\Temp\\ipykernel_8100\\1073088871.py:5: SettingWithCopyWarning: \n",
      "A value is trying to be set on a copy of a slice from a DataFrame\n",
      "\n",
      "See the caveats in the documentation: https://pandas.pydata.org/pandas-docs/stable/user_guide/indexing.html#returning-a-view-versus-a-copy\n",
      "  tide_data.loc[Date] = tide_data[Date].astype('datetime64[ns]')\n"
     ]
    }
   ],
   "source": [
    "# Filter out obvious outliers\n",
    "Pegelstand = tide_data.columns[1]\n",
    "Date = tide_data.columns[0]\n",
    "tide_data.loc[(tide_data[Pegelstand] > 650) | (tide_data[Pegelstand] < -650), Pegelstand] = np.nan\n",
    "tide_data.loc[Date] = tide_data[Date].astype('datetime64[ns]')\n",
    "tide_data = tide_data.iloc[:-1]"
   ]
  },
  {
   "cell_type": "code",
   "execution_count": 11,
   "metadata": {},
   "outputs": [],
   "source": [
    "# Define function that filters out outliers using the gradient of the data\n",
    "def clean_outliers(df_input, threshold):\n",
    "    # Calculate the gradient\n",
    "    gradient = np.gradient(df_input)\n",
    "\n",
    "    # Identify and remove outliers based on the gradient\n",
    "    outliers = df_input[np.abs(gradient) > threshold]\n",
    "    df_cleaned = df_input.copy()\n",
    "\n",
    "    # Set outliers to NaN\n",
    "    df_cleaned.loc[outliers.index] = np.nan\n",
    "\n",
    "\n",
    "    return df_cleaned, outliers\n",
    "\n",
    "# Defining threshold for gradient cleaning\n",
    "threshold = 40\n",
    "\n",
    "# Load in tide data\n",
    "tide = tide_data[Pegelstand]\n",
    "\n",
    "# Clean outliers using the gradient method\n",
    "tide,outliers =  clean_outliers(tide,threshold)"
   ]
  },
  {
   "cell_type": "code",
   "execution_count": 12,
   "metadata": {},
   "outputs": [],
   "source": [
    "# Filter data to get hourly data, in order to match it to the wind data\n",
    "tide_60 = tide[::60]\n",
    "time_tide = tide_data['Date_Time'].values[::60]"
   ]
  },
  {
   "cell_type": "code",
   "execution_count": 13,
   "metadata": {},
   "outputs": [],
   "source": [
    "# Defining maximum lenght of interpolated gaps\n",
    "max_nan = 6\n",
    "\n",
    "# Interpolate gaps smaller than max_nan\n",
    "tide_60_inter = tide_60.interpolate(method = 'linear', limit = max_nan).values"
   ]
  },
  {
   "cell_type": "markdown",
   "metadata": {},
   "source": [
    "### Wind Data"
   ]
  },
  {
   "cell_type": "markdown",
   "metadata": {},
   "source": [
    "#### Import Data"
   ]
  },
  {
   "cell_type": "code",
   "execution_count": 14,
   "metadata": {},
   "outputs": [],
   "source": [
    "wind_path = r\"C:\\Users\\Hanne\\Documents\\Studium\\Semester 4\\Machine Learning\\Projekt\\Helgoland\\Wind_data.txt\"#r'1_DatasetCharacteristics/Data/Wind_data.txt'\n",
    "wind_data = pd.read_csv(wind_path, delimiter=\";\")"
   ]
  },
  {
   "cell_type": "code",
   "execution_count": 15,
   "metadata": {},
   "outputs": [],
   "source": [
    "# Extract wind speed, direction and time out of the wind data\n",
    "wind_speed_raw = wind_data[\"   F\"].values\n",
    "wind_direction_raw = wind_data[\"   D\"].astype(\"float\").values\n",
    "time_wind_raw = wind_data[\"MESS_DATUM\"].astype(\"int\")"
   ]
  },
  {
   "cell_type": "markdown",
   "metadata": {},
   "source": [
    "#### Cleaning The Data"
   ]
  },
  {
   "cell_type": "code",
   "execution_count": 16,
   "metadata": {},
   "outputs": [],
   "source": [
    "# Find all missing values in the data which are encoded as -999\n",
    "nan_index = []\n",
    "for i,v in enumerate(wind_direction_raw):\n",
    "    if v == -999:\n",
    "        nan_index.append(i)\n",
    "\n",
    "for i,v in enumerate(wind_speed_raw):\n",
    "    if v == -999:\n",
    "        nan_index.append(i)\n",
    "\n",
    "# Replace the missing values with nan values for consistency\n",
    "wind_speed_raw[nan_index] = np.nan\n",
    "wind_direction_raw[nan_index] = np.nan"
   ]
  },
  {
   "cell_type": "code",
   "execution_count": 17,
   "metadata": {},
   "outputs": [],
   "source": [
    "# The time data of the wind data has missing values, so complete time series are missing. Here we define a function which imputs the correct time data at a given point if \n",
    "# It is missing\n",
    "def fill_missing_values(integers, values1, values2):\n",
    "    # Convert time values to pandas datetime objects\n",
    "    datetime_integers = pd.to_datetime(integers, format='%Y%m%d%H')\n",
    "\n",
    "    # Find the time in hours from the start\n",
    "    hours_from_start = (datetime_integers - datetime_integers.min()) / np.timedelta64(1, 'h')\n",
    "\n",
    "    # Create a continuous array of hours\n",
    "    continuous_hours = np.arange(hours_from_start.min(), hours_from_start.max() + 1)\n",
    "\n",
    "    # Create arrays of NaNs with the same length as continuous_hours\n",
    "    nan_values1 = np.full_like(continuous_hours, np.nan, dtype=float)\n",
    "    nan_values2 = np.full_like(continuous_hours, np.nan, dtype=float)\n",
    "\n",
    "    # Find the indices where the original hours match the continuous range\n",
    "    indices = np.searchsorted(continuous_hours, hours_from_start)\n",
    "\n",
    "    # Fill in the nan_values arrays at the appropriate indices with the original values\n",
    "    nan_values1[indices] = values1\n",
    "    nan_values2[indices] = values2\n",
    "\n",
    "    # Convert continuous_hours back to the desired integer format\n",
    "    continuous_integers = (datetime_integers.min() + pd.to_timedelta(continuous_hours, unit='h')).strftime('%Y%m%d%H').astype(int)\n",
    "    continuous_integers = pd.to_datetime(continuous_integers, format='%Y%m%d%H')\n",
    "\n",
    "    return continuous_integers.values, nan_values1, nan_values2\n",
    "\n",
    "# Insert the missing time value in the time data and insert nan values in the wind_direction and the wind_speed data \n",
    "time_wind, wind_speed, wind_direction = fill_missing_values(time_wind_raw,wind_speed_raw,wind_direction_raw)"
   ]
  },
  {
   "cell_type": "code",
   "execution_count": 18,
   "metadata": {},
   "outputs": [],
   "source": [
    "# Define function which interpolates all gaps of nans with a certain maximum lenght \n",
    "def interpolate_nans(series, max_gap_length,data_type):\n",
    "    df = pd.DataFrame({'values': series})\n",
    "    df['filled'] = df['values'].interpolate(limit=max_gap_length)\n",
    "\n",
    "    return df['filled'].astype(data_type).values\n",
    "\n",
    "# Interpolate all the gaps with a maximum number of missing values equal to 6\n",
    "wind_speed = interpolate_nans(wind_speed, max_nan,\"float\")\n",
    "wind_direction = interpolate_nans(wind_direction, max_nan,\"float\")"
   ]
  },
  {
   "cell_type": "code",
   "execution_count": 19,
   "metadata": {},
   "outputs": [],
   "source": [
    "# Define function that transforms the wind from speed and direction to vector components\n",
    "def wind_speed_components(speed, direction):\n",
    "    # Convert direction to radians\n",
    "    direction_rad = np.radians(direction)\n",
    "\n",
    "    # Calculate x and y components\n",
    "    speed_x = speed * np.sin(direction_rad)  # Negative due to different coordinate system\n",
    "    speed_y = speed * np.cos(direction_rad)  # Negative due to different coordinate system\n",
    "\n",
    "    return speed_x, speed_y\n",
    "\n",
    "# Transform wind into vector\n",
    "wind_zonal, wind_meridional = wind_speed_components(wind_speed, wind_direction)"
   ]
  },
  {
   "cell_type": "markdown",
   "metadata": {},
   "source": [
    "## Merging The Datasets\n",
    "\n"
   ]
  },
  {
   "cell_type": "code",
   "execution_count": 20,
   "metadata": {},
   "outputs": [
    {
     "name": "stdout",
     "output_type": "stream",
     "text": [
      "['1959-01-01T00' '1959-01-01T01' '1959-01-01T02' ... '2022-12-31T21'\n",
      " '2022-12-31T22' '2022-12-31T23']\n"
     ]
    }
   ],
   "source": [
    "time_tide = time_tide.astype('datetime64[s]')\n",
    "time_wind = time_wind.astype('datetime64[h]')\n",
    "print(time_wind)"
   ]
  },
  {
   "cell_type": "code",
   "execution_count": 21,
   "metadata": {},
   "outputs": [],
   "source": [
    "# Define last index which is supported by all the data, here it is determined by the last date in the helgoland wind data at 2022-12-31 23\n",
    "stop_date_index = np.where(time_tide == np.datetime64('2022-12-31 23:00:00'))[0][0]\n",
    "\n",
    "# Define first index which is supported by all the data, here it is determined by the first date in the tide wind data at 1999-01-01 00\n",
    "start_date_index = np.where(time_wind == np.datetime64('1999-01-01T00:00:00'))[0][0]"
   ]
  },
  {
   "cell_type": "code",
   "execution_count": 22,
   "metadata": {},
   "outputs": [
    {
     "name": "stdout",
     "output_type": "stream",
     "text": [
      "(210384,)\n",
      "(210384,)\n"
     ]
    }
   ],
   "source": [
    "# Use only values in valid range\n",
    "tide_cut = tide_60_inter[:stop_date_index+1].astype(np.float64)\n",
    "wind_meridional_cut = wind_meridional[start_date_index:]\n",
    "wind_zonal_cut = wind_zonal[start_date_index:]\n",
    "\n",
    "# Create universal time vector\n",
    "time = time_wind[start_date_index:]\n",
    "\n",
    "print(np.shape(tide_cut))\n",
    "print(np.shape(time))"
   ]
  },
  {
   "cell_type": "code",
   "execution_count": 23,
   "metadata": {},
   "outputs": [],
   "source": [
    "# Define function that finds all the subsequences of three arrays of the same lenght where all array have no nan values.\n",
    "def create_dataframes(arr1, arr2, arr3, arr4):\n",
    "    # Find indices where there are no NaNs in all three arrays\n",
    "    valid_indices = np.where(~np.isnan(arr1) & ~np.isnan(arr2) & ~np.isnan(arr3) & ~np.isnan(arr4))[0]\n",
    "\n",
    "    # Split valid indices into continuous series\n",
    "    split_indices = np.split(valid_indices, np.where(np.diff(valid_indices) != 1)[0] + 1)\n",
    "\n",
    "    # Initialize an empty list to store DataFrames\n",
    "    dataframes = []\n",
    "\n",
    "    # Create a DataFrame for each continuous series of non-NaN values\n",
    "    for indices in split_indices:\n",
    "        # Create a DataFrame with columns 'Array1', 'Array2', 'Array3', and 'Length'\n",
    "        df = pd.DataFrame({\n",
    "            'Time': [arr1[i] for i in indices],  # Extract values from arr1 using indices\n",
    "            'Tide': [arr2[i] for i in indices],  # Extract values from arr2 using indices\n",
    "            'Meridional': [arr3[i] for i in indices],  # Extract values from arr3 using indices\n",
    "            'Zonal': [arr4[i] for i in indices],\n",
    "            'Index': len(dataframes)  # Store the length of the list as Index to indicate number of subsequence in order to later tell them apart\n",
    "        })\n",
    "\n",
    "        # Append the created DataFrame to the list\n",
    "        dataframes.append(df)\n",
    "\n",
    "    return dataframes\n",
    "\n",
    "\n",
    "# Create dataframe containing all the continous subsequences\n",
    "result_dataframes = create_dataframes(time.astype(np.int64), tide_cut, wind_meridional_cut,wind_zonal_cut)"
   ]
  },
  {
   "cell_type": "code",
   "execution_count": 24,
   "metadata": {},
   "outputs": [],
   "source": [
    "# Combine all dataframes into a single dataframe\n",
    "combined_df = pd.concat(result_dataframes, ignore_index=True)"
   ]
  },
  {
   "cell_type": "code",
   "execution_count": 25,
   "metadata": {},
   "outputs": [],
   "source": [
    "# Retrieve time values\n",
    "time_column = combined_df['Time'].values.astype('datetime64[h]')\n",
    "\n",
    "# Insert correct time column\n",
    "combined_df['Time'] = time_column"
   ]
  },
  {
   "cell_type": "code",
   "execution_count": 26,
   "metadata": {},
   "outputs": [
    {
     "name": "stdout",
     "output_type": "stream",
     "text": [
      "                 Time   Tide    Meridional      Zonal  Index\n",
      "0 1999-02-22 05:00:00   86.0  2.187967e+00 -12.408578      0\n",
      "1 1999-02-22 06:00:00  203.0  3.796424e+00 -10.430588      0\n",
      "2 1999-02-22 07:00:00  281.0  1.788576e+00 -10.143520      0\n",
      "3 1999-02-22 08:00:00  322.0  1.788576e+00 -10.143520      0\n",
      "4 1999-02-22 09:00:00  328.0 -1.726752e-15  -9.400000      0\n",
      "\n",
      "In total we have 195685 hours of data in 329 subsets.\n"
     ]
    }
   ],
   "source": [
    "print(combined_df.head())\n",
    "\n",
    "\n",
    "number_indices = combined_df['Index'].iloc[-1]\n",
    "print(f'\\nIn total we have {len(combined_df)} hours of data in {number_indices} subsets.')"
   ]
  },
  {
   "cell_type": "markdown",
   "metadata": {},
   "source": [
    "## Feature Distributions\n",
    "\n",
    "The tide feature exhibits an uneven distribution, with a notable concentration occurring approximately 2 units above and below zero. Interestingly, the maximum concentration lies 2 meters above the zero mark.\n",
    "\n",
    "In contrast, the meridional wind component displays a relatively uniform distribution, albeit with a slight dip in concentration at very low wind speeds, and a peak at zero.\n",
    "\n",
    "On the other hand, the zonal wind component demonstrates a positively skewed distribution, featuring a negative maximum and a relatively sparse concentration at very small positive values."
   ]
  },
  {
   "cell_type": "code",
   "execution_count": 33,
   "metadata": {},
   "outputs": [
    {
     "data": {
      "image/png": "[encoded data removed]",
      "text/plain": [
       "<Figure size 1200x1200 with 4 Axes>"
      ]
     },
     "metadata": {},
     "output_type": "display_data"
    }
   ],
   "source": [
    "# Example: Plotting histograms of all numerical features\n",
    "combined_df[combined_df.columns[1:4]].hist(figsize=(12, 12), bins=50)\n",
    "plt.show()\n"
   ]
  },
  {
   "cell_type": "markdown",
   "metadata": {},
   "source": [
    "## Possible Biases\n",
    "\n",
    "A inherent bias in our dataset could stem from the underrepresentation of storm surges, potentially limiting the accuracy of our model's description. To mitigate this concern, we may consider implementing undersampling in future analyses. This approach could enhance our model's ability to capture and predict storm surge events more effectively. \n",
    "\n",
    "Furthermore, our model's performance with positive zonal wind values may be adversely affected compared to negative values, as evidenced by the mismatch between the number of positive and negative zonal wind speeds in the histogram. "
   ]
  },
  {
   "cell_type": "code",
   "execution_count": 46,
   "metadata": {},
   "outputs": [
    {
     "name": "stdout",
     "output_type": "stream",
     "text": [
      "Our dataset comprises 300 hours of storm surge water levels and 195385 hours which don't belong to storm surges.\n"
     ]
    }
   ],
   "source": [
    "storm_surge = np.shape(np.where(combined_df[combined_df.columns[1]].values >= 363)[0])[0]\n",
    "not_storm_surge = np.shape(np.where(combined_df[combined_df.columns[1]].values < 363)[0])[0]\n",
    "\n",
    "print(f'Our dataset comprises {storm_surge} hours of storm surge water levels and {not_storm_surge} hours which don\\'t belong to storm surges.')"
   ]
  },
  {
   "cell_type": "markdown",
   "metadata": {},
   "source": [
    "It is important to note that a single storm surge event typically spans approximately 3 hours of exceptionally high water levels. Therefore, even within our dataset totaling 300 hours, we can expect to encounter roughly 100 distinct storm surge events."
   ]
  },
  {
   "cell_type": "markdown",
   "metadata": {},
   "source": [
    "## Correlations\n",
    "\n",
    "We've observed that there aren't strong correlations between the meridional and zonal wind components, indicating that they don't encode redundant information. Additionally, a very weak correlation has been noted between water level and the zonal wind component This is exactly the connection we want to try and predict with our machine learning Model. "
   ]
  },
  {
   "cell_type": "code",
   "execution_count": 45,
   "metadata": {},
   "outputs": [
    {
     "data": {
      "image/png": "[encoded data removed]",
      "text/plain": [
       "<Figure size 640x480 with 2 Axes>"
      ]
     },
     "metadata": {},
     "output_type": "display_data"
    }
   ],
   "source": [
    "# Example: Plotting a heatmap to show feature correlations\n",
    "correlation_matrix = abs(combined_df[combined_df.columns[1:4]].corr())\n",
    "sns.heatmap(correlation_matrix, annot=True, cmap = 'Blues')\n",
    "plt.show()\n"
   ]
  }
 ],
 "metadata": {
  "kernelspec": {
   "display_name": "Python 3",
   "language": "python",
   "name": "python3"
  },
  "language_info": {
   "codemirror_mode": {
    "name": "ipython",
    "version": 3
   },
   "file_extension": ".py",
   "mimetype": "text/x-python",
   "name": "python",
   "nbconvert_exporter": "python",
   "pygments_lexer": "ipython3",
   "version": "3.11.5"
  }
 },
 "nbformat": 4,
 "nbformat_minor": 2
}
