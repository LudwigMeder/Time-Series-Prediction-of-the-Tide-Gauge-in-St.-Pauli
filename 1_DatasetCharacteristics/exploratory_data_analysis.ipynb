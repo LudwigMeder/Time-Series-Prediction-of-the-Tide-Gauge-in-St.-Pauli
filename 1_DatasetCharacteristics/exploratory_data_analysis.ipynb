{
 "cells": [
  {
   "cell_type": "markdown",
   "metadata": {},
   "source": [
    "# Exploratory Data Analysis (EDA)\n",
    "\n",
    "## Table of Contents\n",
    "1. [Dataset Overview](#dataset-overview)\n",
    "2. [Handling Missing Values](#handling-missing-values)\n",
    "3. [Feature Distributions](#feature-distributions)\n",
    "4. [Possible Biases](#possible-biases)\n",
    "5. [Correlations](#correlations)\n"
   ]
  },
  {
   "cell_type": "markdown",
   "metadata": {},
   "source": [
    ". [Correlations](#correlations)\n"
   ]
  },
  {
   "cell_type": "code",
   "execution_count": 1,
   "metadata": {},
   "outputs": [],
   "source": [
    "# Import necessary libraries\n",
    "import pandas as pd\n",
    "import numpy as np\n",
    "import matplotlib.pyplot as plt\n",
    "import seaborn as sns\n"
   ]
  },
  {
   "cell_type": "markdown",
   "metadata": {},
   "source": [
    "## Dataset Overview\n",
    "The dataset comprises two sets of data. Initially, we utilized water level data from the weather station in St. Pauli. This dataset records water levels minutely and has been collected since 1999. It is accessible for free through [hydroonline.hpanet.de](https://).\n",
    "\n",
    "Additionally, we incorporated wind data from the Island Helgoland in the German bay. This dataset records wind data hourly and has been collected since 1959. It is freely available at [opendata.dwd.de](https://).\n",
    "\n",
    "After cleaning and merging these datasets, our combined dataset contained 196,521 data points, which spans approximately 22 years."
   ]
  },
  {
   "cell_type": "code",
   "execution_count": 2,
   "metadata": {},
   "outputs": [],
   "source": [
    "# Import libaries\n",
    "import pandas as pd\n",
    "import matplotlib.pyplot as plt\n",
    "import os\n",
    "import numpy as np"
   ]
  },
  {
   "cell_type": "markdown",
   "metadata": {},
   "source": [
    "### Tide Data"
   ]
  },
  {
   "cell_type": "markdown",
   "metadata": {},
   "source": [
    "#### Import The Data\n",
    "The tide data is only available in chunks of one year. These have to be stored in one file."
   ]
  },
  {
   "cell_type": "code",
   "execution_count": 3,
   "metadata": {},
   "outputs": [],
   "source": [
    "# Setting file paths\n",
    "tide_folder_path = #Your Tide File Path
   ]
  },
  {
   "cell_type": "code",
   "execution_count": 4,
   "metadata": {},
   "outputs": [],
   "source": [
    "# Define header and footer lenght\n",
    "skip_rows = 18\n",
    "skip_footer = 3\n",
    "\n",
    "# Define column names\n",
    "column_names = ['Date_Time', 'Water_Level', 'Reference', 'OffsetToNN']\n",
    "\n",
    "# List to store individual DataFrames\n",
    "dfs = []\n",
    "\n",
    "# Iterate through files in the folder\n",
    "for filename in os.listdir(tide_folder_path):\n",
    "    if filename.endswith(\".csv\"):  # Assuming all files have the .csv extension\n",
    "        file_path = os.path.join(tide_folder_path, filename)\n",
    "        df = pd.read_csv(file_path,skipfooter = skip_footer,skiprows =  skip_rows,sep=';', names=column_names , decimal=',', engine= \"python\")\n",
    "        dfs.append(df)\n",
    "\n",
    "# Concatenate the tide data along the rows\n",
    "tide_data_raw = pd.DataFrame(pd.concat(dfs, axis=0, ignore_index=True))"
   ]
  },
  {
   "cell_type": "code",
   "execution_count": 5,
   "metadata": {},
   "outputs": [
    {
     "name": "stdout",
     "output_type": "stream",
     "text": [
      "             Date_Time  Water_Level\n",
      "0  1999-01-01 00:00:00          NaN\n",
      "1  1999-01-01 00:01:00          NaN\n",
      "2  1999-01-01 00:02:00          NaN\n",
      "3  1999-01-01 00:03:00          NaN\n",
      "4  1999-01-01 00:04:00          NaN\n",
      "\n",
      "The total length of the tide data is: 13044960 minutes\n"
     ]
    }
   ],
   "source": [
    "# Extract time and water level columns\n",
    "tide_data = tide_data_raw[['Date_Time', 'Water_Level']]\n",
    "print(tide_data.head())\n",
    "lenght = len(tide_data['Date_Time'])\n",
    "print(f'\\nThe total length of the tide data is: {lenght} minutes')"
   ]
  },
  {
   "cell_type": "markdown",
   "metadata": {},
   "source": [
    "#### Cleaning The Data"
   ]
  },
  {
   "cell_type": "code",
   "execution_count": 6,
   "metadata": {},
   "outputs": [
    {
     "name": "stderr",
     "output_type": "stream",
     "text": [
      "C:\\Users\\Hanne\\AppData\\Local\\Temp\\ipykernel_23632\\1073088871.py:5: SettingWithCopyWarning: \n",
      "A value is trying to be set on a copy of a slice from a DataFrame\n",
      "\n",
      "See the caveats in the documentation: https://pandas.pydata.org/pandas-docs/stable/user_guide/indexing.html#returning-a-view-versus-a-copy\n",
      "  tide_data.loc[Date] = tide_data[Date].astype('datetime64[ns]')\n"
     ]
    }
   ],
   "source": [
    "# Filter out obvious outliers\n",
    "Pegelstand = tide_data.columns[1]\n",
    "Date = tide_data.columns[0]\n",
    "tide_data.loc[(tide_data[Pegelstand] > 650) | (tide_data[Pegelstand] < -650), Pegelstand] = np.nan\n",
    "tide_data.loc[Date] = tide_data[Date].astype('datetime64[ns]')\n",
    "tide_data = tide_data.iloc[:-1]"
   ]
  },
  {
   "cell_type": "code",
   "execution_count": 7,
   "metadata": {},
   "outputs": [],
   "source": [
    "# Define function that filters out outliers using the gradient of the data\n",
    "def clean_outliers(df_input, threshold):\n",
    "    # Calculate the gradient\n",
    "    gradient = np.gradient(df_input)\n",
    "\n",
    "    # Identify and remove outliers based on the gradient\n",
    "    outliers = df_input[np.abs(gradient) > threshold]\n",
    "    df_cleaned = df_input.copy()\n",
    "\n",
    "    # Set outliers to NaN\n",
    "    df_cleaned.loc[outliers.index] = np.nan\n",
    "\n",
    "\n",
    "    return df_cleaned, outliers\n",
    "\n",
    "# Defining threshold for gradient cleaning\n",
    "threshold = 40\n",
    "\n",
    "# Load in tide data\n",
    "tide = tide_data[Pegelstand]\n",
    "\n",
    "# Clean outliers using the gradient method\n",
    "tide,outliers =  clean_outliers(tide,threshold)"
   ]
  },
  {
   "cell_type": "code",
   "execution_count": 8,
   "metadata": {},
   "outputs": [],
   "source": [
    "# Filter data to get hourly data, in order to match it to the wind data\n",
    "tide_60 = tide[::60]\n",
    "time_tide = tide_data['Date_Time'].values[::60]"
   ]
  },
  {
   "cell_type": "code",
   "execution_count": 9,
   "metadata": {},
   "outputs": [],
   "source": [
    "# Defining maximum lenght of interpolated gaps\n",
    "max_nan = 6\n",
    "\n",
    "# Interpolate gaps smaller than max_nan\n",
    "tide_60_inter = tide_60.interpolate(method = 'linear', limit = max_nan).values"
   ]
  },
  {
   "cell_type": "markdown",
   "metadata": {},
   "source": [
    "### Wind Data"
   ]
  },
  {
   "cell_type": "markdown",
   "metadata": {},
   "source": [
    "#### Import Data"
   ]
  },
  {
   "cell_type": "code",
   "execution_count": 10,
   "metadata": {},
   "outputs": [],
   "source": [
    "wind_path = #Your Wind File Path
    "wind_data = pd.read_csv(wind_path, delimiter=\";\")"
   ]
  },
  {
   "cell_type": "code",
   "execution_count": 11,
   "metadata": {},
   "outputs": [],
   "source": [
    "# Extract wind speed, direction and time out of the wind data\n",
    "wind_speed_raw = wind_data[\"   F\"].values\n",
    "wind_direction_raw = wind_data[\"   D\"].astype(\"float\").values\n",
    "time_wind_raw = wind_data[\"MESS_DATUM\"].astype(\"int\")"
   ]
  },
  {
   "cell_type": "markdown",
   "metadata": {},
   "source": [
    "#### Cleaning The Data"
   ]
  },
  {
   "cell_type": "code",
   "execution_count": 12,
   "metadata": {},
   "outputs": [],
   "source": [
    "# Find all missing values in the data which are encoded as -999\n",
    "nan_index = []\n",
    "for i,v in enumerate(wind_direction_raw):\n",
    "    if v == -999:\n",
    "        nan_index.append(i)\n",
    "\n",
    "for i,v in enumerate(wind_speed_raw):\n",
    "    if v == -999:\n",
    "        nan_index.append(i)\n",
    "\n",
    "# Replace the missing values with nan values for consistency\n",
    "wind_speed_raw[nan_index] = np.nan\n",
    "wind_direction_raw[nan_index] = np.nan"
   ]
  },
  {
   "cell_type": "code",
   "execution_count": 13,
   "metadata": {},
   "outputs": [],
   "source": [
    "# The time data of the wind data has missing values, so complete time series are missing. Here we define a function which imputs the correct time data at a given point if \n",
    "# It is missing\n",
    "def fill_missing_values(integers, values1, values2):\n",
    "    # Convert time values to pandas datetime objects\n",
    "    datetime_integers = pd.to_datetime(integers, format='%Y%m%d%H')\n",
    "\n",
    "    # Find the time in hours from the start\n",
    "    hours_from_start = (datetime_integers - datetime_integers.min()) / np.timedelta64(1, 'h')\n",
    "\n",
    "    # Create a continuous array of hours\n",
    "    continuous_hours = np.arange(hours_from_start.min(), hours_from_start.max() + 1)\n",
    "\n",
    "    # Create arrays of NaNs with the same length as continuous_hours\n",
    "    nan_values1 = np.full_like(continuous_hours, np.nan, dtype=float)\n",
    "    nan_values2 = np.full_like(continuous_hours, np.nan, dtype=float)\n",
    "\n",
    "    # Find the indices where the original hours match the continuous range\n",
    "    indices = np.searchsorted(continuous_hours, hours_from_start)\n",
    "\n",
    "    # Fill in the nan_values arrays at the appropriate indices with the original values\n",
    "    nan_values1[indices] = values1\n",
    "    nan_values2[indices] = values2\n",
    "\n",
    "    # Convert continuous_hours back to the desired integer format\n",
    "    continuous_integers = (datetime_integers.min() + pd.to_timedelta(continuous_hours, unit='h')).strftime('%Y%m%d%H').astype(int)\n",
    "    continuous_integers = pd.to_datetime(continuous_integers, format='%Y%m%d%H')\n",
    "\n",
    "    return continuous_integers.values, nan_values1, nan_values2\n",
    "\n",
    "# Insert the missing time value in the time data and insert nan values in the wind_direction and the wind_speed data \n",
    "time_wind, wind_speed, wind_direction = fill_missing_values(time_wind_raw,wind_speed_raw,wind_direction_raw)"
   ]
  },
  {
   "cell_type": "code",
   "execution_count": 14,
   "metadata": {},
   "outputs": [],
   "source": [
    "# Define function which interpolates all gaps of nans with a certain maximum lenght \n",
    "def interpolate_nans(series, max_gap_length,data_type):\n",
    "    df = pd.DataFrame({'values': series})\n",
    "    df['filled'] = df['values'].interpolate(limit=max_gap_length)\n",
    "\n",
    "    return df['filled'].astype(data_type).values\n",
    "\n",
    "# Interpolate all the gaps with a maximum number of missing values equal to 6\n",
    "wind_speed = interpolate_nans(wind_speed, max_nan,\"float\")\n",
    "wind_direction = interpolate_nans(wind_direction, max_nan,\"float\")"
   ]
  },
  {
   "cell_type": "code",
   "execution_count": 15,
   "metadata": {},
   "outputs": [],
   "source": [
    "# Define function that transforms the wind from speed and direction to vector components\n",
    "def wind_speed_components(speed, direction):\n",
    "    # Convert direction to radians\n",
    "    direction_rad = np.radians(direction)\n",
    "\n",
    "    # Calculate x and y components\n",
    "    speed_x = speed * np.sin(direction_rad)  # Negative due to different coordinate system\n",
    "    speed_y = speed * np.cos(direction_rad)  # Negative due to different coordinate system\n",
    "\n",
    "    return speed_x, speed_y\n",
    "\n",
    "# Transform wind into vector\n",
    "wind_zonal, wind_meridional = wind_speed_components(wind_speed, wind_direction)"
   ]
  },
  {
   "cell_type": "markdown",
   "metadata": {},
   "source": [
    "## Merging The Datasets\n",
    "\n"
   ]
  },
  {
   "cell_type": "code",
   "execution_count": 16,
   "metadata": {},
   "outputs": [
    {
     "name": "stdout",
     "output_type": "stream",
     "text": [
      "['1959-01-01T00' '1959-01-01T01' '1959-01-01T02' ... '2022-12-31T21'\n",
      " '2022-12-31T22' '2022-12-31T23']\n"
     ]
    }
   ],
   "source": [
    "time_tide = time_tide.astype('datetime64[s]')\n",
    "time_wind = time_wind.astype('datetime64[h]')\n",
    "print(time_wind)"
   ]
  },
  {
   "cell_type": "code",
   "execution_count": 17,
   "metadata": {},
   "outputs": [],
   "source": [
    "# Define last index which is supported by all the data, here it is determined by the last date in the helgoland wind data at 2022-12-31 23\n",
    "stop_date_index = np.where(time_tide == np.datetime64('2022-12-31 23:00:00'))[0][0]\n",
    "\n",
    "# Define first index which is supported by all the data, here it is determined by the first date in the tide wind data at 1999-01-01 00\n",
    "start_date_index = np.where(time_wind == np.datetime64('1999-01-01T00:00:00'))[0][0]"
   ]
  },
  {
   "cell_type": "code",
   "execution_count": 18,
   "metadata": {},
   "outputs": [
    {
     "name": "stdout",
     "output_type": "stream",
     "text": [
      "(210384,)\n",
      "(210384,)\n"
     ]
    }
   ],
   "source": [
    "# Use only values in valid range\n",
    "tide_cut = tide_60_inter[:stop_date_index+1].astype(np.float64)\n",
    "wind_meridional_cut = wind_meridional[start_date_index:]\n",
    "wind_zonal_cut = wind_zonal[start_date_index:]\n",
    "\n",
    "# Create universal time vector\n",
    "time = time_wind[start_date_index:]\n",
    "\n",
    "print(np.shape(tide_cut))\n",
    "print(np.shape(time))"
   ]
  },
  {
   "cell_type": "code",
   "execution_count": 19,
   "metadata": {},
   "outputs": [],
   "source": [
    "# Define function that finds all the subsequences of three arrays of the same lenght where all array have no nan values.\n",
    "def create_dataframes(arr1, arr2, arr3, arr4):\n",
    "    # Find indices where there are no NaNs in all three arrays\n",
    "    valid_indices = np.where(~np.isnan(arr1) & ~np.isnan(arr2) & ~np.isnan(arr3) & ~np.isnan(arr4))[0]\n",
    "\n",
    "    # Split valid indices into continuous series\n",
    "    split_indices = np.split(valid_indices, np.where(np.diff(valid_indices) != 1)[0] + 1)\n",
    "\n",
    "    # Initialize an empty list to store DataFrames\n",
    "    dataframes = []\n",
    "\n",
    "    # Create a DataFrame for each continuous series of non-NaN values\n",
    "    for indices in split_indices:\n",
    "        # Create a DataFrame with columns 'Array1', 'Array2', 'Array3', and 'Length'\n",
    "        df = pd.DataFrame({\n",
    "            'Time': [arr1[i] for i in indices],  # Extract values from arr1 using indices\n",
    "            'Tide': [arr2[i] for i in indices],  # Extract values from arr2 using indices\n",
    "            'Meridional': [arr3[i] for i in indices],  # Extract values from arr3 using indices\n",
    "            'Zonal': [arr4[i] for i in indices],\n",
    "            'Index': len(dataframes)  # Store the length of the list as Index to indicate number of subsequence in order to later tell them apart\n",
    "        })\n",
    "\n",
    "        # Append the created DataFrame to the list\n",
    "        dataframes.append(df)\n",
    "\n",
    "    return dataframes\n",
    "\n",
    "\n",
    "# Create dataframe containing all the continous subsequences\n",
    "result_dataframes = create_dataframes(time.astype(np.int64), tide_cut, wind_meridional_cut,wind_zonal_cut)"
   ]
  },
  {
   "cell_type": "code",
   "execution_count": 20,
   "metadata": {},
   "outputs": [],
   "source": [
    "# Combine all dataframes into a single dataframe\n",
    "combined_df = pd.concat(result_dataframes, ignore_index=True)"
   ]
  },
  {
   "cell_type": "code",
   "execution_count": 21,
   "metadata": {},
   "outputs": [],
   "source": [
    "# Retrieve time values\n",
    "time_column = combined_df['Time'].values.astype('datetime64[h]')\n",
    "\n",
    "# Insert correct time column\n",
    "combined_df['Time'] = time_column"
   ]
  },
  {
   "cell_type": "code",
   "execution_count": 22,
   "metadata": {},
   "outputs": [
    {
     "name": "stdout",
     "output_type": "stream",
     "text": [
      "                 Time   Tide    Meridional      Zonal  Index\n",
      "0 1999-02-22 05:00:00   86.0  2.187967e+00 -12.408578      0\n",
      "1 1999-02-22 06:00:00  203.0  3.796424e+00 -10.430588      0\n",
      "2 1999-02-22 07:00:00  281.0  1.788576e+00 -10.143520      0\n",
      "3 1999-02-22 08:00:00  322.0  1.788576e+00 -10.143520      0\n",
      "4 1999-02-22 09:00:00  328.0 -1.726752e-15  -9.400000      0\n",
      "\n",
      "In total we have 195685 hours of data in 329 subsets.\n"
     ]
    }
   ],
   "source": [
    "print(combined_df.head())\n",
    "\n",
    "\n",
    "number_indices = combined_df['Index'].iloc[-1]\n",
    "print(f'\\nIn total we have {len(combined_df)} hours of data in {number_indices} subsets.')"
   ]
  },
  {
   "cell_type": "markdown",
   "metadata": {},
   "source": [
    "## Feature Distributions\n",
    "\n",
    "The features—Water level and Meridional Wind Component—are evenly distributed and exhibit minimal skewness. However, it's noteworthy that the Zonal Wind Component displays a negative peak and shows slight positive skewness. This anomaly can be attributed to Hamburg's geographical location within the zone of prevailing Westerly Winds.\n"
   ]
  },
  {
   "cell_type": "code",
   "execution_count": 23,
   "metadata": {},
   "outputs": [
    {
     "data": {
      "image/png": "iVBORw0KGgoAAAANSUhEUgAAA+wAAAPcCAYAAADbozElAAAAOXRFWHRTb2Z0d2FyZQBNYXRwbG90bGliIHZlcnNpb24zLjcuMiwgaHR0cHM6Ly9tYXRwbG90bGliLm9yZy8pXeV/AAAACXBIWXMAAA9hAAAPYQGoP6dpAACaJUlEQVR4nOzdfVhU953//9fIzQhEJyCBkQYT2xKiwbQWI6JN1CpgKtrUa2Mb0knsWmKikbLKmli3G2wiJnjbLyTWWButaOl+v9ZuVlMCpokpi3chYePd2uzWeJOAmDiCN2SY4Pn9wc/TjAhxFOQAz8d1cZn5nPec+Zx3GOa85sycYzMMwxAAAAAAALCUXp09AQAAAAAA0BKBHQAAAAAACyKwAwAAAABgQQR2AAAAAAAsiMAOAAAAAIAFEdgBAAAAALAgAjsAAAAAABZEYAcAAAAAwIII7AAAAAAAWBCBHejmbDbbVf289dZbmjZtmm6//farXm9ubm6Hzh0AAPzdunXrfF63L2cYhr7+9a/LZrNpzJgx7frYt99+u6ZNm/aldW+99VaL+fmzf3EjsA+DriSwsycAoGPt3LnT5/azzz6rN998U3/+8599xgcPHqzY2Fj99Kc/vZHTAwAAfurTp4/Wrl3bIpTv2LFD//u//6s+ffq0+2Nu2bJFffv2vab7/vznP2f/ArhGBHagmxsxYoTP7VtuuUW9evVqMS7pml+IAQDAjfODH/xAGzdu1Isvvujz2r127VolJyervr6+3R6roaFBISEhGjp06DWv42tf+1q7zQfoafhIPADTlT6yVl9fr8zMTPXr10833XSTJkyYoL/+9a9XvP8HH3ygjIwMRUVFyW63a9CgQXrxxRdvwMwBAOg5HnroIUnS7373O3Osrq5Omzdv1j/+4z+2qG9sbNRzzz2nO++8U3a7Xbfccot+/OMf69SpUz51t99+u9LT0/WHP/xBQ4cOVe/evbVw4UJz2eUfif/v//5vTZgwQaGhoYqMjNTjjz+us2fPtnj8K+1ffPbZZ5o/f74GDhyo4OBgfeUrX9GsWbN05syZK86ppKRE3/rWtxQSEqI777xTv/nNb3zqTp06pZkzZ2rw4MG66aabFBUVpe985zv6y1/+0mYvAavjCDuAVhmGoQceeEAVFRX613/9V91zzz36z//8T91///0tag8ePKiRI0dqwIABWrZsmZxOp15//XVlZWXpk08+0TPPPNMJWwAAQPfTt29f/cM//IN+85vfaMaMGZKaw3uvXr30gx/8QCtXrjRrL168qO9973v6y1/+onnz5mnkyJE6evSonnnmGY0ZM0bvvPOOQkJCzPp3331Xhw4d0r/8y79o4MCBCgsLu+IcTp48qdGjRysoKEgvvfSSoqOjtXHjRj355JNfOv9L+xdvvPGG5s+fr3vvvVfvv/++nnnmGe3cuVM7d+6U3W436//rv/5Lc+fO1dNPP63o6Gj9+te/1vTp0/X1r39d9913nyTp9OnTkqRnnnlGTqdT586d05YtWzRmzBi98cYb7f6dfuBGIbADaNXrr7+uN998U7/85S+VlZUlSUpJSVFwcLAWLFjgUztnzhz16dNH5eXl5sfzUlJS5PF49PzzzysrK0vh4eE3fBsAAOiO/vEf/1Fjx47VgQMHdNddd+k3v/mNHnzwwRbfX/+3f/s3lZSUaPPmzZoyZYo5/o1vfEP33HOP1q1bpyeeeMIcr62t1cGDB3XHHXe0+fgrVqzQqVOn9N577+kb3/iGJOn+++9Xamqqjh071uZ9S0tL9frrrys/P1///M//LKl5nyE2NlY/+MEP9Nvf/laZmZlm/SeffKL//M//1IABAyRJ9913n9544w1t2rTJDOzx8fF66aWXzPs0NTUpLS1NH374of7P//k/BHZ0WXwkHkCr3nzzTUnSww8/7DOekZHhc/uzzz7TG2+8oe9///sKDQ3V559/bv5897vf1WeffaZdu3bdsHkDANDdjR49Wl/72tf0m9/8Rvv27dPevXuv+HH4rVu36uabb9akSZN8Xp+/+c1vyul0tjjb/N133/2lYV1q3ke46667zLB+yeX7CFdy6cS3l3/E/sEHH1RYWJjeeOMNn/FvfvObZliXpN69e+uOO+7Q0aNHfep+9atf6Vvf+pZ69+6twMBABQUF6Y033tChQ4e+dE6AVRHYAbTq008/VWBgoPr16+cz7nQ6W9R9/vnnKigoUFBQkM/Pd7/7XUnN744DAID2YbPZ9OMf/1hFRUX61a9+pTvuuEP33ntvi7qTJ0/qzJkzCg4ObvEaXVNT0+L1uX///lf1+J9++mmL/QGp5T5Ca/cNDAzULbfc0mKbnE6nPv30U5/xy/dDJMlut6uhocG8vXz5cj3xxBNKSkrS5s2btWvXLu3du1cTJkzwqQO6Gj4SD6BV/fr10+eff65PP/3U58WypqbGpy48PFwBAQFyuVyaNWvWFdc1cODADp0rAAA9zbRp0/Sv//qv+tWvfqVFixZdsSYyMlL9+vVTSUnJFZdf/hF6m812VY/dr1+/FvsDUst9hNbu+/nnn+vUqVM+od0wDNXU1Oiee+65qjl8UVFRkcaMGaNVq1b5jF/pJHhAV8IRdgCtGjt2rCRp48aNPuObNm3yuR0aGqqxY8fqvffe0913361hw4a1+LnSu+MAAODafeUrX9E///M/a9KkSXr00UevWJOenq5PP/1UTU1NV3x9jo+Pv6bHvvT9+f/6r//yGb98H+FKxo0bJ6k5ZH/R5s2bdf78eXO5P2w2m8+J6iTp/fff186dO/1eF2AlHGEH0KrU1FTdd999mjdvns6fP69hw4bpP//zP7Vhw4YWtb/85S/17W9/W/fee6+eeOIJ3X777Tp79qz+53/+R//xH/9hfl8NAAC0n+eff77N5T/84Q+1ceNGffe739VPf/pTDR8+XEFBQTpx4oTefPNNfe9739P3v/99vx83Oztbv/nNbzRx4kQ999xz5lni//u///tL75uSkqK0tDQ99dRTqq+v16hRo8yzxA8dOlQul8vv+aSnp+vZZ5/VM888o9GjR+vw4cP6xS9+oYEDB+rzzz/3e32AVRDYAbSqV69eevXVVzVnzhzl5+ersbFRo0aN0muvvaY777zTp3bw4MF699139eyzz+pf/uVfVFtbq5tvvllxcXHm99gBAMCNFRAQoFdffVW//OUvtWHDBi1evFiBgYG69dZbNXr0aA0ZMuSa1ut0OrVjxw799Kc/1RNPPKHQ0FB9//vfV2Fhob73ve+1eV+bzaY//vGPys3N1SuvvKJFixYpMjJSLpdLeXl5LY6UX40FCxbowoULWrt2rfLz8zV48GD96le/0pYtW1qcWA/oSmyGYRidPQkAAAAAAOCL77ADAAAAAGBBBHYAAAAAACyIwA4AAAAAgAUR2AEAAAAAsCACOwAAAAAAFkRgBwAAAADAgnr0ddgvXryojz/+WH369JHNZuvs6QAAuijDMHT27FnFxMSoVy/eC++u2G8AALQHf/YbenRg//jjjxUbG9vZ0wAAdBPHjx/Xrbfe2tnTQAdhvwEA0J6uZr+hRwf2Pn36SGpuVN++fTt5NtfP6/WqtLRUqampCgoK6uzpdBr60Iw+/B29aEYfmnVEH+rr6xUbG2u+rqB76qr7DTz3/UO//EfP/EO//NfdeubPfkOPDuyXPs7Wt2/fLvXC2xqv16vQ0FD17du3W/wiXyv60Iw+/B29aEYfmnVkH/iYdEsfffSRnnrqKf3pT39SQ0OD7rjjDq1du1aJiYmSmj8WuHDhQr388styu91KSkrSiy++qLvuustch8fjUU5Ojn73u9+poaFB48aN00svveRzVMLtdisrK0uvvvqqJGny5MkqKCjQzTffbNYcO3ZMs2bN0p///GeFhIQoIyNDS5cuVXBw8FVtS1fdb+C57x/65T965h/65b/u2rOr2W/gi3YAAKBDuN1ujRo1SkFBQfrTn/6kgwcPatmyZT4hOj8/X8uXL1dhYaH27t0rp9OplJQUnT171qzJzs7Wli1bVFxcrPLycp07d07p6elqamoyazIyMlRVVaWSkhKVlJSoqqpKLpfLXN7U1KSJEyfq/PnzKi8vV3FxsTZv3qy5c+fekF4AAHAtevQRdgAA0HFeeOEFxcbG6pVXXjHHbr/9dvO/DcPQypUrtWDBAk2ZMkWStH79ekVHR2vTpk2aMWOG6urqtHbtWm3YsEHjx4+XJBUVFSk2Nlbbt29XWlqaDh06pJKSEu3atUtJSUmSpDVr1ig5OVmHDx9WfHy8SktLdfDgQR0/flwxMTGSpGXLlmnatGlatGhRlzpiDgDoOTjCDgAAOsSrr76qYcOG6cEHH1RUVJSGDh2qNWvWmMuPHDmimpoapaammmN2u12jR49WRUWFJKmyslJer9enJiYmRgkJCWbNzp075XA4zLAuSSNGjJDD4fCpSUhIMMO6JKWlpcnj8aiysrJjGgAAwHXiCDsAAOgQf/vb37Rq1SrNmTNHP/vZz7Rnzx5lZWXJbrfrkUceUU1NjSQpOjra537R0dE6evSoJKmmpkbBwcEKDw9vUXPp/jU1NYqKimrx+FFRUT41lz9OeHi4goODzZrLeTweeTwe83Z9fb2k5u9Ser3eq+5DZ7s01640585Ev/xHz/xDv/zX3Xrmz3YQ2AEAQIe4ePGihg0bpry8PEnS0KFDdeDAAa1atUqPPPKIWXf5SXcMw/jSE/FcXnOl+mup+aLFixdr4cKFLcZLS0sVGhra5vysqKysrLOn0KXQL//RM//QL/91l55duHDhqmsJ7AAAoEP0799fgwcP9hkbNGiQNm/eLElyOp2Smo9+9+/f36ypra01j4Y7nU41NjbK7Xb7HGWvra3VyJEjzZqTJ0+2ePxTp075rGf37t0+y91ut7xeb4sj75fMnz9fc+bMMW9fugxPampql/rOu9frVVlZmVJSUrrV2ZU7Cv3yHz3zD/3yX3fr2aVPbF0NAjsAAOgQo0aN0uHDh33G/vrXv+q2226TJA0cOFBOp1NlZWUaOnSoJKmxsVE7duzQCy+8IElKTExUUFCQysrKNHXqVElSdXW19u/fr/z8fElScnKy6urqtGfPHg0fPlyStHv3btXV1ZmhPjk5WYsWLVJ1dbX55kBpaansdrt5ibnL2e122e32FuNBQUFdcoexq867s9Av/9Ez/9Av/3WXnvmzDQR2AADQIf7pn/5JI0eOVF5enqZOnao9e/bo5Zdf1ssvvyyp+SPq2dnZysvLU1xcnOLi4pSXl6fQ0FBlZGRIkhwOh6ZPn665c+eqX79+ioiIUE5OjoYMGWKeNX7QoEGaMGGCMjMztXr1aknSY489pvT0dMXHx0uSUlNTNXjwYLlcLi1ZskSnT59WTk6OMjMzu9TRcgBAz0JgBwAAHeKee+7Rli1bNH/+fP3iF7/QwIEDtXLlSj388MNmzbx589TQ0KCZM2fK7XYrKSlJpaWl6tOnj1mzYsUKBQYGaurUqWpoaNC4ceO0bt06BQQEmDUbN25UVlaWeTb5yZMnq7Cw0FweEBCgbdu2aebMmRo1apRCQkKUkZGhpUuX3oBOAABwbQjsAACgw6Snpys9Pb3V5TabTbm5ucrNzW21pnfv3iooKFBBQUGrNRERESoqKmpzLgMGDNDWrVu/dM4AAFgF12EHAAAAAMCCCOwAAAAAAFgQgR0AAAAAAAsisAMAAAAAYEEEdgAAAAAALIjADgAAAACABXFZNwBf6vant3X2FFr48PmJnT0FAAA6nRVeo+0BhvKHSwm5r8vTZOM1GmhHHGEHAAAAAMCCCOwAAAAAAFgQgR0AAAAAAAsisAMAAAAAYEEEdgAAAAAALIjADgAAAACABRHYAQAAAACwIAI7AAAAAAAWRGAHAAAAAMCCCOwAAAAAAFgQgR0AAAAAAAsisAMAAAAAYEEEdgAAAAAALIjADgAAAACABRHYAQAAAACwIAI7AAAAAAAWRGAHAAAAAMCC/Arsubm5stlsPj9Op9NcbhiGcnNzFRMTo5CQEI0ZM0YHDhzwWYfH49Hs2bMVGRmpsLAwTZ48WSdOnPCpcbvdcrlccjgccjgccrlcOnPmjE/NsWPHNGnSJIWFhSkyMlJZWVlqbGz0c/MBAAAAALAmv4+w33XXXaqurjZ/9u3bZy7Lz8/X8uXLVVhYqL1798rpdColJUVnz541a7Kzs7VlyxYVFxervLxc586dU3p6upqamsyajIwMVVVVqaSkRCUlJaqqqpLL5TKXNzU1aeLEiTp//rzKy8tVXFyszZs3a+7cudfaBwAAAAAALCXQ7zsEBvocVb/EMAytXLlSCxYs0JQpUyRJ69evV3R0tDZt2qQZM2aorq5Oa9eu1YYNGzR+/HhJUlFRkWJjY7V9+3alpaXp0KFDKikp0a5du5SUlCRJWrNmjZKTk3X48GHFx8ertLRUBw8e1PHjxxUTEyNJWrZsmaZNm6ZFixapb9++19wQAAAAANfu9qe3dfYUWvjw+YmdPQXgmvgd2D/44APFxMTIbrcrKSlJeXl5+upXv6ojR46opqZGqampZq3dbtfo0aNVUVGhGTNmqLKyUl6v16cmJiZGCQkJqqioUFpamnbu3CmHw2GGdUkaMWKEHA6HKioqFB8fr507dyohIcEM65KUlpYmj8ejyspKjR079opz93g88ng85u36+npJktfrldfr9bcVlnNpG7rDtlwP+tCsPftgDzCuex3tzZ/t4neiGX1o1hF96Ok9BQAAHcOvwJ6UlKTf/va3uuOOO3Ty5Ek999xzGjlypA4cOKCamhpJUnR0tM99oqOjdfToUUlSTU2NgoODFR4e3qLm0v1ramoUFRXV4rGjoqJ8ai5/nPDwcAUHB5s1V7J48WItXLiwxXhpaalCQ0O/bPO7jLKyss6egiXQh2bt0Yf84e0wkXb22muv+X0ffiea0Ydm7dmHCxcutNu6AAAALvErsN9///3mfw8ZMkTJycn62te+pvXr12vEiBGSJJvN5nMfwzBajF3u8por1V9LzeXmz5+vOXPmmLfr6+sVGxur1NTUbvExeq/Xq7KyMqWkpCgoKKizp9Np6EOz9uxDQu7r7TSr9rM/N+2qa/mdaEYfmnVEHy59YgsAAKA9+f2R+C8KCwvTkCFD9MEHH+iBBx6Q1Hz0u3///mZNbW2teTTc6XSqsbFRbrfb5yh7bW2tRo4cadacPHmyxWOdOnXKZz27d+/2We52u+X1elscef8iu90uu93eYjwoKKhb7bx2t+25VvShWXv0wdPU9ptuneFatonfiWb0oVl79oF+AgCAjnBd12H3eDw6dOiQ+vfvr4EDB8rpdPp8xLCxsVE7duwww3hiYqKCgoJ8aqqrq7V//36zJjk5WXV1ddqzZ49Zs3v3btXV1fnU7N+/X9XV1WZNaWmp7Ha7EhMTr2eTAAAAAACwBL+OsOfk5GjSpEkaMGCAamtr9dxzz6m+vl6PPvqobDabsrOzlZeXp7i4OMXFxSkvL0+hoaHKyMiQJDkcDk2fPl1z585Vv379FBERoZycHA0ZMsQ8a/ygQYM0YcIEZWZmavXq1ZKkxx57TOnp6YqPj5ckpaamavDgwXK5XFqyZIlOnz6tnJwcZWZmdouPtgMAAAAA4FdgP3HihB566CF98sknuuWWWzRixAjt2rVLt912myRp3rx5amho0MyZM+V2u5WUlKTS0lL16dPHXMeKFSsUGBioqVOnqqGhQePGjdO6desUEBBg1mzcuFFZWVnm2eQnT56swsJCc3lAQIC2bdummTNnatSoUQoJCVFGRoaWLl16Xc0AAAAAAMAq/ArsxcXFbS632WzKzc1Vbm5uqzW9e/dWQUGBCgoKWq2JiIhQUVFRm481YMAAbd26tc0aAAAAAAC6quv6DjsAAAAAAOgYBHYAAAAAACyIwA4AAAAAgAUR2AEAAAAAsCACOwAAAAAAFkRgBwAAAADAggjsAAAAAABYEIEdAAAAAAALIrADAAAAAGBBBHYAAAAAACyIwA4AAAAAgAUR2AEAAAAAsCACOwAAAAAAFkRgBwAAAADAggjsAAAAAABYUGBnTwDobLc/va2zp9DCh89P7OwpAAAAAOhkHGEHAAAAAMCCCOwAAAAAAFgQgR0AAAAAAAsisAMAAAAAYEEEdgAA0CFyc3Nls9l8fpxOp7ncMAzl5uYqJiZGISEhGjNmjA4cOOCzDo/Ho9mzZysyMlJhYWGaPHmyTpw44VPjdrvlcrnkcDjkcDjkcrl05swZn5pjx45p0qRJCgsLU2RkpLKystTY2Nhh2w4AQHsgsAMAgA5z1113qbq62vzZt2+fuSw/P1/Lly9XYWGh9u7dK6fTqZSUFJ09e9asyc7O1pYtW1RcXKzy8nKdO3dO6enpampqMmsyMjJUVVWlkpISlZSUqKqqSi6Xy1ze1NSkiRMn6vz58yovL1dxcbE2b96suXPn3pgmAABwjbisGwAA6DCBgYE+R9UvMQxDK1eu1IIFCzRlyhRJ0vr16xUdHa1NmzZpxowZqqur09q1a7VhwwaNHz9eklRUVKTY2Fht375daWlpOnTokEpKSrRr1y4lJSVJktasWaPk5GQdPnxY8fHxKi0t1cGDB3X8+HHFxMRIkpYtW6Zp06Zp0aJF6tu37w3qBgAA/uEIOwAA6DAffPCBYmJiNHDgQP3whz/U3/72N0nSkSNHVFNTo9TUVLPWbrdr9OjRqqiokCRVVlbK6/X61MTExCghIcGs2blzpxwOhxnWJWnEiBFyOBw+NQkJCWZYl6S0tDR5PB5VVlZ23MYDAHCdOMIOAAA6RFJSkn7729/qjjvu0MmTJ/Xcc89p5MiROnDggGpqaiRJ0dHRPveJjo7W0aNHJUk1NTUKDg5WeHh4i5pL96+pqVFUVFSLx46KivKpufxxwsPDFRwcbNZcicfjkcfjMW/X19dLkrxer7xe71X1wAouzbUrzbkzdbV+2QOMzp6C7L0Mn3+tyEr/P7va75gVdLee+bMdBHYAANAh7r//fvO/hwwZouTkZH3ta1/T+vXrNWLECEmSzWbzuY9hGC3GLnd5zZXqr6XmcosXL9bChQtbjJeWlio0NLTNOVpRWVlZZ0+hS+kq/cof3tkz+Ltnh13s7Cm06rXXXuvsKbTQVX7HrKS79OzChQtXXUtgBwAAN0RYWJiGDBmiDz74QA888ICk5qPf/fv3N2tqa2vNo+FOp1ONjY1yu90+R9lra2s1cuRIs+bkyZMtHuvUqVM+69m9e7fPcrfbLa/X2+LI+xfNnz9fc+bMMW/X19crNjZWqampXep7716vV2VlZUpJSVFQUFBnT8fyulq/EnJf7+wpyN7L0LPDLurn7/SS52Lbb7h1lv25aZ09BVNX+x2zgu7Ws0uf2LoaBHYAAHBDeDweHTp0SPfee68GDhwop9OpsrIyDR06VJLU2NioHTt26IUXXpAkJSYmKigoSGVlZZo6daokqbq6Wvv371d+fr4kKTk5WXV1ddqzZ4+GD28+1Lh7927V1dWZoT45OVmLFi1SdXW1+eZAaWmp7Ha7EhMTW52v3W6X3W5vMR4UFNQldxi76rw7S1fpl6fJOgHZc9Fmqfl8kRX/X3aV3zEr6S4982cbCOyABd3+9LbrXoc9wFD+8OZ33q364gmge8vJydGkSZM0YMAA1dbW6rnnnlN9fb0effRR2Ww2ZWdnKy8vT3FxcYqLi1NeXp5CQ0OVkZEhSXI4HJo+fbrmzp2rfv36KSIiQjk5ORoyZIh51vhBgwZpwoQJyszM1OrVqyVJjz32mNLT0xUfHy9JSk1N1eDBg+VyubRkyRKdPn1aOTk5yszM7FJHygEAPQ+BHQAAdIgTJ07ooYce0ieffKJbbrlFI0aM0K5du3TbbbdJkubNm6eGhgbNnDlTbrdbSUlJKi0tVZ8+fcx1rFixQoGBgZo6daoaGho0btw4rVu3TgEBAWbNxo0blZWVZZ5NfvLkySosLDSXBwQEaNu2bZo5c6ZGjRqlkJAQZWRkaOnSpTeoEwAAXBsCOwAA6BDFxcVtLrfZbMrNzVVubm6rNb1791ZBQYEKCgparYmIiFBRUVGbjzVgwABt3bq1zRoAAKyG67ADAAAAAGBBBHYAAAAAACyIwA4AAAAAgAUR2AEAAAAAsCACOwAAAAAAFkRgBwAAAADAggjsAAAAAABYEIEdAAAAAAALIrADAAAAAGBBBHYAAAAAACyIwA4AAAAAgAUR2AEAAAAAsCACOwAAAAAAFkRgBwAAAADAggjsAAAAAABYEIEdAAAAAAALIrADAAAAAGBBBHYAAAAAACyIwA4AAAAAgAUR2AEAAAAAsCACOwAAAAAAFkRgBwAAAADAggjsAAAAAABYEIEdAAAAAAALIrADAAAAAGBBBHYAAAAAACyIwA4AAAAAgAUR2AEAAAAAsCACOwAAAAAAFkRgBwAAAADAgq4rsC9evFg2m03Z2dnmmGEYys3NVUxMjEJCQjRmzBgdOHDA534ej0ezZ89WZGSkwsLCNHnyZJ04ccKnxu12y+VyyeFwyOFwyOVy6cyZMz41x44d06RJkxQWFqbIyEhlZWWpsbHxejYJAAAAAABLuObAvnfvXr388su6++67fcbz8/O1fPlyFRYWau/evXI6nUpJSdHZs2fNmuzsbG3ZskXFxcUqLy/XuXPnlJ6erqamJrMmIyNDVVVVKikpUUlJiaqqquRyuczlTU1Nmjhxos6fP6/y8nIVFxdr8+bNmjt37rVuEgAAAAAAlnFNgf3cuXN6+OGHtWbNGoWHh5vjhmFo5cqVWrBggaZMmaKEhAStX79eFy5c0KZNmyRJdXV1Wrt2rZYtW6bx48dr6NChKioq0r59+7R9+3ZJ0qFDh1RSUqJf//rXSk5OVnJystasWaOtW7fq8OHDkqTS0lIdPHhQRUVFGjp0qMaPH69ly5ZpzZo1qq+vv96+AAAAAADQqQKv5U6zZs3SxIkTNX78eD333HPm+JEjR1RTU6PU1FRzzG63a/To0aqoqNCMGTNUWVkpr9frUxMTE6OEhARVVFQoLS1NO3fulMPhUFJSklkzYsQIORwOVVRUKD4+Xjt37lRCQoJiYmLMmrS0NHk8HlVWVmrs2LEt5u3xeOTxeMzbl4K91+uV1+u9llZYyqVt6A7bcj387YM9wOjI6XQaey/D59/uxp/fc54bzehDs47oQ0/vKQAA6Bh+B/bi4mK9++672rt3b4tlNTU1kqTo6Gif8ejoaB09etSsCQ4O9jkyf6nm0v1ramoUFRXVYv1RUVE+NZc/Tnh4uIKDg82ayy1evFgLFy5sMV5aWqrQ0NAr3qcrKisr6+wpWMLV9iF/eAdPpJM9O+xiZ0+hQ7z22mt+34fnRjP60Kw9+3DhwoV2WxcAAMAlfgX248eP66c//alKS0vVu3fvVutsNpvPbcMwWoxd7vKaK9VfS80XzZ8/X3PmzDFv19fXKzY2Vqmpqerbt2+b8+sKvF6vysrKlJKSoqCgoM6eTqfxtw8Jua/fgFndePZehp4ddlE/f6eXPBfbfv51Rftz0666ludGM/rQrCP6wFexAABAR/ArsFdWVqq2tlaJiYnmWFNTk95++20VFhaa3y+vqalR//79zZra2lrzaLjT6VRjY6PcbrfPUfba2lqNHDnSrDl58mSLxz916pTPenbv3u2z3O12y+v1tjjyfondbpfdbm8xHhQU1K12Xrvb9lyrq+2Dp6n7hdkv8ly0dcttvJbfcZ4bzehDs/bsA/0EAAAdwa+Tzo0bN0779u1TVVWV+TNs2DA9/PDDqqqq0le/+lU5nU6fjxk2NjZqx44dZhhPTExUUFCQT011dbX2799v1iQnJ6uurk579uwxa3bv3q26ujqfmv3796u6utqsKS0tld1u93lDAQAAAACArsivI+x9+vRRQkKCz1hYWJj69etnjmdnZysvL09xcXGKi4tTXl6eQkNDlZGRIUlyOByaPn265s6dq379+ikiIkI5OTkaMmSIxo8fL0kaNGiQJkyYoMzMTK1evVqS9Nhjjyk9PV3x8fGSpNTUVA0ePFgul0tLlizR6dOnlZOTo8zMzG7x8XYAbbv96W1XXWsPMJQ/vPnrDx35aYMPn5/YYesGAABAz3NNZ4lvy7x589TQ0KCZM2fK7XYrKSlJpaWl6tOnj1mzYsUKBQYGaurUqWpoaNC4ceO0bt06BQQEmDUbN25UVlaWeTb5yZMnq7Cw0FweEBCgbdu2aebMmRo1apRCQkKUkZGhpUuXtvcmAQAAAABww113YH/rrbd8bttsNuXm5io3N7fV+/Tu3VsFBQUqKChotSYiIkJFRUVtPvaAAQO0detWf6YLAAAAAECX4Nd32AEAAAAAwI1BYAcAAAAAwIII7AAAAAAAWBCBHQAAAAAACyKwAwAAAABgQQR2AAAAAAAsiMAOAAAAAIAFEdgBAAAAALAgAjsAAAAAABZEYAcAAAAAwIII7AAAAAAAWBCBHQAAAAAACyKwAwAAAABgQYGdPQEAAACgK7j96W2dPQUAPQxH2AEAQIdbvHixbDabsrOzzTHDMJSbm6uYmBiFhIRozJgxOnDggM/9PB6PZs+ercjISIWFhWny5Mk6ceKET43b7ZbL5ZLD4ZDD4ZDL5dKZM2d8ao4dO6ZJkyYpLCxMkZGRysrKUmNjY0dtLgAA7YLADgAAOtTevXv18ssv6+677/YZz8/P1/Lly1VYWKi9e/fK6XQqJSVFZ8+eNWuys7O1ZcsWFRcXq7y8XOfOnVN6erqamprMmoyMDFVVVamkpEQlJSWqqqqSy+Uylzc1NWnixIk6f/68ysvLVVxcrM2bN2vu3Lkdv/EAAFwHAjsAAOgw586d08MPP6w1a9YoPDzcHDcMQytXrtSCBQs0ZcoUJSQkaP369bpw4YI2bdokSaqrq9PatWu1bNkyjR8/XkOHDlVRUZH27dun7du3S5IOHTqkkpIS/frXv1ZycrKSk5O1Zs0abd26VYcPH5YklZaW6uDBgyoqKtLQoUM1fvx4LVu2TGvWrFF9ff2NbwoAAFeJwA4AADrMrFmzNHHiRI0fP95n/MiRI6qpqVFqaqo5ZrfbNXr0aFVUVEiSKisr5fV6fWpiYmKUkJBg1uzcuVMOh0NJSUlmzYgRI+RwOHxqEhISFBMTY9akpaXJ4/GosrKy/TcaAIB2wknnAABAhyguLta7776rvXv3tlhWU1MjSYqOjvYZj46O1tGjR82a4OBgnyPzl2ou3b+mpkZRUVEt1h8VFeVTc/njhIeHKzg42Ky5Eo/HI4/HY96+dDTe6/XK6/W2ej+ruTTXrjTnztRWv+wBxo2eTpdg72X4/GtFVvr95znpv+7WM3+2g8AOAADa3fHjx/XTn/5UpaWl6t27d6t1NpvN57ZhGC3GLnd5zZXqr6XmcosXL9bChQtbjJeWlio0NLTNOVpRWVlZZ0+hS7lSv/KHd8JEupBnh13s7Cm06rXXXuvsKbTAc9J/3aVnFy5cuOpaAjsAAGh3lZWVqq2tVWJiojnW1NSkt99+W4WFheb3y2tqatS/f3+zpra21jwa7nQ61djYKLfb7XOUvba2ViNHjjRrTp482eLxT5065bOe3bt3+yx3u93yer0tjrx/0fz58zVnzhzzdn19vWJjY5Wamqq+fftedS86m9frVVlZmVJSUhQUFNTZ07G8tvqVkPt6J83K2uy9DD077KJ+/k4veS62/YZbZ9mfm9bZUzDxnPRfd+uZP+dPIbADAIB2N27cOO3bt89n7Mc//rHuvPNOPfXUU/rqV78qp9OpsrIyDR06VJLU2NioHTt26IUXXpAkJSYmKigoSGVlZZo6daokqbq6Wvv371d+fr4kKTk5WXV1ddqzZ4+GD28+/Ll7927V1dWZoT45OVmLFi1SdXW1+eZAaWmp7Ha7zxsKl7Pb7bLb7S3Gg4KCuuQOY1edd2e5Ur88TdYMo1bhuWizbI+s+LvPc9J/3aVn/mwDgR0AALS7Pn36KCEhwWcsLCxM/fr1M8ezs7OVl5enuLg4xcXFKS8vT6GhocrIyJAkORwOTZ8+XXPnzlW/fv0UERGhnJwcDRkyxDyJ3aBBgzRhwgRlZmZq9erVkqTHHntM6enpio+PlySlpqZq8ODBcrlcWrJkiU6fPq2cnBxlZmZ2qSPlAICeh8AOAAA6xbx589TQ0KCZM2fK7XYrKSlJpaWl6tOnj1mzYsUKBQYGaurUqWpoaNC4ceO0bt06BQQEmDUbN25UVlaWeTb5yZMnq7Cw0FweEBCgbdu2aebMmRo1apRCQkKUkZGhpUuX3riNBQDgGhDYAQDADfHWW2/53LbZbMrNzVVubm6r9+ndu7cKCgpUUFDQak1ERISKiorafOwBAwZo69at/kwXAIBOx3XYAQAAAACwIAI7AAAAAAAWRGAHAAAAAMCCCOwAAAAAAFgQgR0AAAAAAAsisAMAAAAAYEEEdgAAAAAALIjADgAAAACABRHYAQAAAACwIAI7AAAAAAAWRGAHAAAAAMCCCOwAAAAAAFgQgR0AAAAAAAsisAMAAAAAYEEEdgAAAAAALIjADgAAAACABRHYAQAAAACwIAI7AAAAAAAWRGAHAAAAAMCCCOwAAAAAAFgQgR0AAAAAAAsisAMAAAAAYEEEdgAAAAAALIjADgAAAACABRHYAQAAAACwIAI7AAAAAAAWRGAHAAAAAMCCCOwAAAAAAFgQgR0AAAAAAAsisAMAAAAAYEEEdgAAAAAALIjADgAAAACABRHYAQAAAACwIAI7AAAAAAAWRGAHAAAAAMCCCOwAAAAAAFiQX4F91apVuvvuu9W3b1/17dtXycnJ+tOf/mQuNwxDubm5iomJUUhIiMaMGaMDBw74rMPj8Wj27NmKjIxUWFiYJk+erBMnTvjUuN1uuVwuORwOORwOuVwunTlzxqfm2LFjmjRpksLCwhQZGamsrCw1Njb6ufkAAAAAAFiTX4H91ltv1fPPP6933nlH77zzjr7zne/oe9/7nhnK8/PztXz5chUWFmrv3r1yOp1KSUnR2bNnzXVkZ2dry5YtKi4uVnl5uc6dO6f09HQ1NTWZNRkZGaqqqlJJSYlKSkpUVVUll8tlLm9qatLEiRN1/vx5lZeXq7i4WJs3b9bcuXOvtx8AAAAAAFhCoD/FkyZN8rm9aNEirVq1Srt27dLgwYO1cuVKLViwQFOmTJEkrV+/XtHR0dq0aZNmzJihuro6rV27Vhs2bND48eMlSUVFRYqNjdX27duVlpamQ4cOqaSkRLt27VJSUpIkac2aNUpOTtbhw4cVHx+v0tJSHTx4UMePH1dMTIwkadmyZZo2bZoWLVqkvn37XndjAAAAAADoTNf8HfampiYVFxfr/PnzSk5O1pEjR1RTU6PU1FSzxm63a/To0aqoqJAkVVZWyuv1+tTExMQoISHBrNm5c6ccDocZ1iVpxIgRcjgcPjUJCQlmWJektLQ0eTweVVZWXusmAQAAAABgGX4dYZekffv2KTk5WZ999pluuukmbdmyRYMHDzbDdHR0tE99dHS0jh49KkmqqalRcHCwwsPDW9TU1NSYNVFRUS0eNyoqyqfm8scJDw9XcHCwWXMlHo9HHo/HvF1fXy9J8nq98nq9V7X9VnZpG7rDtlwPf/tgDzA6cjqdxt7L8Pm3J7tRvbD6c4+/Ec06og89vacAAKBj+B3Y4+PjVVVVpTNnzmjz5s169NFHtWPHDnO5zWbzqTcMo8XY5S6vuVL9tdRcbvHixVq4cGGL8dLSUoWGhrY5x66krKyss6dgCVfbh/zhHTyRTvbssIudPQXL6OhevPbaax26/vbC34hm7dmHCxcutNu6AAAALvE7sAcHB+vrX/+6JGnYsGHau3evfvnLX+qpp56S1Hz0u3///mZ9bW2teTTc6XSqsbFRbrfb5yh7bW2tRo4cadacPHmyxeOeOnXKZz27d+/2We52u+X1elscef+i+fPna86cOebt+vp6xcbGKjU1tVt8793r9aqsrEwpKSkKCgrq7Ol0Gn/7kJD7+g2Y1Y1n72Xo2WEX9fN3eslzse03zbq7G9WL/blpHbbu9sDfiGYd0YdLn9gCAABoT34H9ssZhiGPx6OBAwfK6XSqrKxMQ4cOlSQ1NjZqx44deuGFFyRJiYmJCgoKUllZmaZOnSpJqq6u1v79+5Wfny9JSk5OVl1dnfbs2aPhw5sPfe7evVt1dXVmqE9OTtaiRYtUXV1tvjlQWloqu92uxMTEVudqt9tlt9tbjAcFBXWrndfutj3X6mr74Gnq3mHWc9HW7bfxanV0L7rK846/Ec3asw/0EwAAdAS/AvvPfvYz3X///YqNjdXZs2dVXFyst956SyUlJbLZbMrOzlZeXp7i4uIUFxenvLw8hYaGKiMjQ5LkcDg0ffp0zZ07V/369VNERIRycnI0ZMgQ86zxgwYN0oQJE5SZmanVq1dLkh577DGlp6crPj5ekpSamqrBgwfL5XJpyZIlOn36tHJycpSZmdktjpQDAAAAAOBXYD958qRcLpeqq6vlcDh09913q6SkRCkpKZKkefPmqaGhQTNnzpTb7VZSUpJKS0vVp08fcx0rVqxQYGCgpk6dqoaGBo0bN07r1q1TQECAWbNx40ZlZWWZZ5OfPHmyCgsLzeUBAQHatm2bZs6cqVGjRikkJEQZGRlaunTpdTUDAAAAAACr8Cuwr127ts3lNptNubm5ys3NbbWmd+/eKigoUEFBQas1ERERKioqavOxBgwYoK1bt7ZZAwAAAABAV3XN12EHAAAAAAAdh8AOAAAAAIAFEdgBAAAAALAgAjsAAAAAABZEYAcAAAAAwIII7AAAAAAAWBCBHQAAAAAACyKwAwAAAABgQQR2AADQIVatWqW7775bffv2Vd++fZWcnKw//elP5nLDMJSbm6uYmBiFhIRozJgxOnDggM86PB6PZs+ercjISIWFhWny5Mk6ceKET43b7ZbL5ZLD4ZDD4ZDL5dKZM2d8ao4dO6ZJkyYpLCxMkZGRysrKUmNjY4dtOwAA7YHADgAAOsStt96q559/Xu+8847eeecdfec739H3vvc9M5Tn5+dr+fLlKiws1N69e+V0OpWSkqKzZ8+a68jOztaWLVtUXFys8vJynTt3Tunp6WpqajJrMjIyVFVVpZKSEpWUlKiqqkoul8tc3tTUpIkTJ+r8+fMqLy9XcXGxNm/erLlz5964ZgAAcA0CO3sCAACge5o0aZLP7UWLFmnVqlXatWuXBg8erJUrV2rBggWaMmWKJGn9+vWKjo7Wpk2bNGPGDNXV1Wnt2rXasGGDxo8fL0kqKipSbGystm/frrS0NB06dEglJSXatWuXkpKSJElr1qxRcnKyDh8+rPj4eJWWlurgwYM6fvy4YmJiJEnLli3TtGnTtGjRIvXt2/cGdgUAgKtHYAcAAB2uqalJ//f//l+dP39eycnJOnLkiGpqapSammrW2O12jR49WhUVFZoxY4YqKyvl9Xp9amJiYpSQkKCKigqlpaVp586dcjgcZliXpBEjRsjhcKiiokLx8fHauXOnEhISzLAuSWlpafJ4PKqsrNTYsWOvOGePxyOPx2Perq+vlyR5vV55vd52601HuzTXrjTnztRWv+wBxo2eTpdg72X4/GtFVvr95znpv+7WM3+2g8AOAAA6zL59+5ScnKzPPvtMN910k7Zs2aLBgweroqJCkhQdHe1THx0draNHj0qSampqFBwcrPDw8BY1NTU1Zk1UVFSLx42KivKpufxxwsPDFRwcbNZcyeLFi7Vw4cIW46WlpQoNDf2yTbecsrKyzp5Cl3KlfuUP74SJdCHPDrvY2VNo1WuvvdbZU2iB56T/ukvPLly4cNW1BHYAANBh4uPjVVVVpTNnzmjz5s169NFHtWPHDnO5zWbzqTcMo8XY5S6vuVL9tdRcbv78+ZozZ455u76+XrGxsUpNTe1SH6P3er0qKytTSkqKgoKCOns6ltdWvxJyX++kWVmbvZehZ4dd1M/f6SXPxbafv51lf25aZ0/BxHPSf92tZ5c+sXU1COwAAKDDBAcH6+tf/7okadiwYdq7d69++ctf6qmnnpLUfPS7f//+Zn1tba15NNzpdKqxsVFut9vnKHttba1Gjhxp1pw8ebLF4546dcpnPbt37/ZZ7na75fV6Wxx5/yK73S673d5iPCgoqEvuMHbVeXeWK/XL02TNMGoVnos2y/bIir/7PCf911165s82cJZ4AABwwxiGIY/Ho4EDB8rpdPp8vLGxsVE7duwww3hiYqKCgoJ8aqqrq7V//36zJjk5WXV1ddqzZ49Zs3v3btXV1fnU7N+/X9XV1WZNaWmp7Ha7EhMTO3R7AQC4HhxhBwAAHeJnP/uZ7r//fsXGxurs2bMqLi7WW2+9pZKSEtlsNmVnZysvL09xcXGKi4tTXl6eQkNDlZGRIUlyOByaPn265s6dq379+ikiIkI5OTkaMmSIedb4QYMGacKECcrMzNTq1aslSY899pjS09MVHx8vSUpNTdXgwYPlcrm0ZMkSnT59Wjk5OcrMzOxSH20HAPQ8BHYAANAhTp48KZfLperqajkcDt19990qKSlRSkqKJGnevHlqaGjQzJkz5Xa7lZSUpNLSUvXp08dcx4oVKxQYGKipU6eqoaFB48aN07p16xQQEGDWbNy4UVlZWebZ5CdPnqzCwkJzeUBAgLZt26aZM2dq1KhRCgkJUUZGhpYuXXqDOgEAwLUhsAMAgA6xdu3aNpfbbDbl5uYqNze31ZrevXuroKBABQUFrdZERESoqKiozccaMGCAtm7d2mYNAABWw3fYAQAAAACwIAI7AAAAAAAWRGAHAAAAAMCCCOwAAAAAAFgQgR0AAAAAAAsisAMAAAAAYEEEdgAAAAAALIjADgAAAACABRHYAQAAAACwIAI7AAAAAAAWRGAHAAAAAMCCCOwAAAAAAFgQgR0AAAAAAAsisAMAAAAAYEEEdgAAAAAALIjADgAAAACABRHYAQAAAACwIAI7AAAAAAAWRGAHAAAAAMCCCOwAAAAAAFgQgR0AAAAAAAsisAMAAAAAYEEEdgAAAAAALIjADgAAAACABRHYAQAAAACwIAI7AAAAAAAWRGAHAAAAAMCCCOwAAAAAAFgQgR0AAAAAAAsisAMAAAAAYEEEdgAAAAAALIjADgAAAACABRHYAQAAAACwIAI7AAAAAAAWRGAHAAAAAMCCCOwAAAAAAFgQgR0AAAAAAAsisAMAAAAAYEEEdgAAAAAALIjADgAAAACABRHYAQAAAACwIAI7AAAAAAAW5FdgX7x4se655x716dNHUVFReuCBB3T48GGfGsMwlJubq5iYGIWEhGjMmDE6cOCAT43H49Hs2bMVGRmpsLAwTZ48WSdOnPCpcbvdcrlccjgccjgccrlcOnPmjE/NsWPHNGnSJIWFhSkyMlJZWVlqbGz0Z5MAAAAAALAkvwL7jh07NGvWLO3atUtlZWX6/PPPlZqaqvPnz5s1+fn5Wr58uQoLC7V37145nU6lpKTo7NmzZk12dra2bNmi4uJilZeX69y5c0pPT1dTU5NZk5GRoaqqKpWUlKikpERVVVVyuVzm8qamJk2cOFHnz59XeXm5iouLtXnzZs2dO/d6+gEAAAAAgCUE+lNcUlLic/uVV15RVFSUKisrdd9998kwDK1cuVILFizQlClTJEnr169XdHS0Nm3apBkzZqiurk5r167Vhg0bNH78eElSUVGRYmNjtX37dqWlpenQoUMqKSnRrl27lJSUJElas2aNkpOTdfjwYcXHx6u0tFQHDx7U8ePHFRMTI0latmyZpk2bpkWLFqlv377X3RwAAAAAADqLX4H9cnV1dZKkiIgISdKRI0dUU1Oj1NRUs8Zut2v06NGqqKjQjBkzVFlZKa/X61MTExOjhIQEVVRUKC0tTTt37pTD4TDDuiSNGDFCDodDFRUVio+P186dO5WQkGCGdUlKS0uTx+NRZWWlxo4dez2bBgAAAKCbuP3pbZ09BZM9wFD+8M6eBbqKaw7shmFozpw5+va3v62EhARJUk1NjSQpOjrapzY6OlpHjx41a4KDgxUeHt6i5tL9a2pqFBUV1eIxo6KifGouf5zw8HAFBwebNZfzeDzyeDzm7fr6ekmS1+uV1+u9ug23sEvb0B225Xr42wd7gNGR0+k09l6Gz7892Y3qhdWfe/yNaNYRfejpPQUAAB3jmgP7k08+qffff1/l5eUtltlsNp/bhmG0GLvc5TVXqr+Wmi9avHixFi5c2GK8tLRUoaGhbc6vKykrK+vsKVjC1fahu7/D+eywi509Bcvo6F689tprHbr+9sLfiGbt2YcLFy6027oAAAAuuabAPnv2bL366qt6++23deutt5rjTqdTUvPR7/79+5vjtbW15tFwp9OpxsZGud1un6PstbW1GjlypFlz8uTJFo976tQpn/Xs3r3bZ7nb7ZbX621x5P2S+fPna86cOebt+vp6xcbGKjU1tVt8593r9aqsrEwpKSkKCgrq7Ol0Gn/7kJD7+g2Y1Y1n72Xo2WEX9fN3eslzse03zLq7G9WL/blpHbbu9sDfiGYd0YdLn9gCAABoT34FdsMwNHv2bG3ZskVvvfWWBg4c6LN84MCBcjqdKisr09ChQyVJjY2N2rFjh1544QVJUmJiooKCglRWVqapU6dKkqqrq7V//37l5+dLkpKTk1VXV6c9e/Zo+PDmw5+7d+9WXV2dGeqTk5O1aNEiVVdXm28OlJaWym63KzEx8Yrzt9vtstvtLcaDgoK61c5rd9uea3W1ffA0de8w67lo6/bbeLU6uhdd5XnH34hm7dkH+gkAADqCX4F91qxZ2rRpk/793/9dffr0Mb8r7nA4FBISIpvNpuzsbOXl5SkuLk5xcXHKy8tTaGioMjIyzNrp06dr7ty56tevnyIiIpSTk6MhQ4aYZ40fNGiQJkyYoMzMTK1evVqS9Nhjjyk9PV3x8fGSpNTUVA0ePFgul0tLlizR6dOnlZOTo8zMzG5xtBwAAAAA0LP5FdhXrVolSRozZozP+CuvvKJp06ZJkubNm6eGhgbNnDlTbrdbSUlJKi0tVZ8+fcz6FStWKDAwUFOnTlVDQ4PGjRundevWKSAgwKzZuHGjsrKyzLPJT548WYWFhebygIAAbdu2TTNnztSoUaMUEhKijIwMLV261K8GAAAAAABgRX5/JP7L2Gw25ebmKjc3t9Wa3r17q6CgQAUFBa3WREREqKioqM3HGjBggLZu3fqlcwIAAAAAoKvp1dkTAAAAAAAALRHYAQAAAACwIAI7AADoEIsXL9Y999yjPn36KCoqSg888IAOHz7sU2MYhnJzcxUTE6OQkBCNGTNGBw4c8KnxeDyaPXu2IiMjFRYWpsmTJ+vEiRM+NW63Wy6XSw6HQw6HQy6XS2fOnPGpOXbsmCZNmqSwsDBFRkYqKytLjY2NHbLtAAC0BwI7AADoEDt27NCsWbO0a9culZWV6fPPP1dqaqrOnz9v1uTn52v58uUqLCzU3r175XQ6lZKSorNnz5o12dnZ2rJli4qLi1VeXq5z584pPT1dTU1NZk1GRoaqqqpUUlKikpISVVVVyeVymcubmpo0ceJEnT9/XuXl5SouLtbmzZs1d+7cG9MMAACugV8nnQMAALhaJSUlPrdfeeUVRUVFqbKyUvfdd58Mw9DKlSu1YMECTZkyRZK0fv16RUdHa9OmTZoxY4bq6uq0du1abdiwwbz8a1FRkWJjY7V9+3alpaXp0KFDKikp0a5du5SUlCRJWrNmjZKTk3X48GHFx8ertLRUBw8e1PHjxxUTEyNJWrZsmaZNm6ZFixZxSVgAgCUR2AEAwA1RV1cnqflKMJJ05MgR1dTUmJdwlSS73a7Ro0eroqJCM2bMUGVlpbxer09NTEyMEhISVFFRobS0NO3cuVMOh8MM65I0YsQIORwOVVRUKD4+Xjt37lRCQoIZ1iUpLS1NHo9HlZWVGjt2bIv5ejweeTwe83Z9fb0kyev1yuv1tlNXOt6luXalOXemtvplD/jyKyb1RPZehs+/aNulPvGcvHrd7e+YP9tBYAcAAB3OMAzNmTNH3/72t5WQkCBJqqmpkSRFR0f71EZHR+vo0aNmTXBwsMLDw1vUXLp/TU2NoqKiWjxmVFSUT83ljxMeHq7g4GCz5nKLFy/WwoULW4yXlpYqNDT0S7fZasrKyjp7Cl3KlfqVP7wTJtKFPDvsYmdPoUvhOem/7tKzCxcuXHUtgR0AAHS4J598Uu+//77Ky8tbLLPZbD63DcNoMXa5y2uuVH8tNV80f/58zZkzx7xdX1+v2NhYpaamdqmP0Hu9XpWVlSklJUVBQUGdPR3La6tfCbmvd9KsrM3ey9Czwy7q5+/0kudi289d/L1fPCevXnf7O3bpE1tXg8AOAAA61OzZs/Xqq6/q7bff1q233mqOO51OSc1Hv/v372+O19bWmkfDnU6nGhsb5Xa7fY6y19bWauTIkWbNyZMnWzzuqVOnfNaze/dun+Vut1ter7fFkfdL7Ha77HZ7i/GgoKAuucPYVefdWa7UL08TYbQtnos2euQHnpP+6y4982cbOEs8AADoEIZh6Mknn9Qf/vAH/fnPf9bAgQN9lg8cOFBOp9PnI46NjY3asWOHGcYTExMVFBTkU1NdXa39+/ebNcnJyaqrq9OePXvMmt27d6uurs6nZv/+/aqurjZrSktLZbfblZiY2P4bDwBAO+AIOwAA6BCzZs3Spk2b9O///u/q06eP+V1xh8OhkJAQ2Ww2ZWdnKy8vT3FxcYqLi1NeXp5CQ0OVkZFh1k6fPl1z585Vv379FBERoZycHA0ZMsQ8a/ygQYM0YcIEZWZmavXq1ZKkxx57TOnp6YqPj5ckpaamavDgwXK5XFqyZIlOnz6tnJwcZWZmdqmPtwMAehYCOwAA6BCrVq2SJI0ZM8Zn/JVXXtG0adMkSfPmzVNDQ4Nmzpwpt9utpKQklZaWqk+fPmb9ihUrFBgYqKlTp6qhoUHjxo3TunXrFBAQYNZs3LhRWVlZ5tnkJ0+erMLCQnN5QECAtm3bppkzZ2rUqFEKCQlRRkaGli5d2kFbDwDA9SOwAwCADmEYX36JJ5vNptzcXOXm5rZa07t3bxUUFKigoKDVmoiICBUVFbX5WAMGDNDWrVu/dE4AAFgF32EHAAAAAMCCCOwAAAAAAFgQgR0AAAAAAAsisAMAAAAAYEEEdgAAAAAALIjADgAAAACABRHYAQAAAACwIAI7AAAAAAAWRGAHAAAAAMCCCOwAAAAAAFgQgR0AAAAAAAsisAMAAAAAYEEEdgAAAAAALIjADgAAAACABRHYAQAAAACwIAI7AAAAAAAWRGAHAAAAAMCCCOwAAAAAAFgQgR0AAAAAAAsisAMAAAAAYEEEdgAAAAAALIjADgAAAACABRHYAQAAAACwIAI7AAAAAAAWRGAHAAAAAMCCCOwAAAAAAFgQgR0AAAAAAAsisAMAAAAAYEEEdgAAAAAALIjADgAAAACABRHYAQAAAACwIAI7AAAAAAAWFNjZEwAAAACu5Pant93wx7QHGMofLiXkvi5Pk+2GPz4AfBFH2AEAAAAAsCACOwAAAAAAFkRgBwAAAADAggjsAAAAAABYEIEdAAAAAAALIrADAAAAAGBBBHYAAAAAACyIwA4AAAAAgAUR2AEAAAAAsCACOwAAAAAAFkRgBwAAAADAggjsAAAAAABYEIEdAAAAAAALIrADAAAAAGBBBHYAAAAAACzI78D+9ttva9KkSYqJiZHNZtMf//hHn+WGYSg3N1cxMTEKCQnRmDFjdODAAZ8aj8ej2bNnKzIyUmFhYZo8ebJOnDjhU+N2u+VyueRwOORwOORyuXTmzBmfmmPHjmnSpEkKCwtTZGSksrKy1NjY6O8mAQAAAABgOX4H9vPnz+sb3/iGCgsLr7g8Pz9fy5cvV2Fhofbu3Sun06mUlBSdPXvWrMnOztaWLVtUXFys8vJynTt3Tunp6WpqajJrMjIyVFVVpZKSEpWUlKiqqkoul8tc3tTUpIkTJ+r8+fMqLy9XcXGxNm/erLlz5/q7SQAAAAAAWE6gv3e4//77df/9919xmWEYWrlypRYsWKApU6ZIktavX6/o6Ght2rRJM2bMUF1dndauXasNGzZo/PjxkqSioiLFxsZq+/btSktL06FDh1RSUqJdu3YpKSlJkrRmzRolJyfr8OHDio+PV2lpqQ4ePKjjx48rJiZGkrRs2TJNmzZNixYtUt++fa+pIQAAAAAAWEG7fof9yJEjqqmpUWpqqjlmt9s1evRoVVRUSJIqKyvl9Xp9amJiYpSQkGDW7Ny5Uw6HwwzrkjRixAg5HA6fmoSEBDOsS1JaWpo8Ho8qKyvbc7MAAAAAALjh/D7C3paamhpJUnR0tM94dHS0jh49atYEBwcrPDy8Rc2l+9fU1CgqKqrF+qOionxqLn+c8PBwBQcHmzWX83g88ng85u36+npJktfrldfrverttKpL29AdtuV6+NsHe4DRkdPpNPZehs+/PdmN6oXVn3v8jWjWEX3o6T0FAAAdo10D+yU2m83ntmEYLcYud3nNleqvpeaLFi9erIULF7YYLy0tVWhoaJvz60rKyso6ewqWcLV9yB/ewRPpZM8Ou9jZU7CMju7Fa6+91qHrby/8jWjWnn24cOFCu60LAADgknYN7E6nU1Lz0e/+/fub47W1tebRcKfTqcbGRrndbp+j7LW1tRo5cqRZc/LkyRbrP3XqlM96du/e7bPc7XbL6/W2OPJ+yfz58zVnzhzzdn19vWJjY5WamtotvvPu9XpVVlamlJQUBQUFdfZ0Oo2/fUjIff0GzOrGs/cy9Oywi/r5O73kudj2G2bd3Y3qxf7ctA5bd3vgb0SzjujDpU9sAQAAtKd2DewDBw6U0+lUWVmZhg4dKklqbGzUjh079MILL0iSEhMTFRQUpLKyMk2dOlWSVF1drf379ys/P1+SlJycrLq6Ou3Zs0fDhzcf/ty9e7fq6urMUJ+cnKxFixapurrafHOgtLRUdrtdiYmJV5yf3W6X3W5vMR4UFNStdl672/Zcq6vtg6epe4dZz0Vbt9/Gq9XRvegqzzv+RjRrzz7Qzyt7++23tWTJElVWVqq6ulpbtmzRAw88YC43DEMLFy7Uyy+/LLfbraSkJL344ou66667zBqPx6OcnBz97ne/U0NDg8aNG6eXXnpJt956q1njdruVlZWlV199VZI0efJkFRQU6OabbzZrjh07plmzZunPf/6zQkJClJGRoaVLlyo4OLjD+wAAwLXy+6Rz586dU1VVlaqqqiQ1n2iuqqpKx44dk81mU3Z2tvLy8rRlyxbt379f06ZNU2hoqDIyMiRJDodD06dP19y5c/XGG2/ovffe049+9CMNGTLEPGv8oEGDNGHCBGVmZmrXrl3atWuXMjMzlZ6ervj4eElSamqqBg8eLJfLpffee09vvPGGcnJylJmZ2S2OlgMA0NVxKVgAAK6P30fY33nnHY0dO9a8fekj5o8++qjWrVunefPmqaGhQTNnzjTfLS8tLVWfPn3M+6xYsUKBgYGaOnWq+W75unXrFBAQYNZs3LhRWVlZ5tnkJ0+e7POCHxAQoG3btmnmzJkaNWqUz7vlAACg83EpWAAAro/fgX3MmDEyjNbPtGyz2ZSbm6vc3NxWa3r37q2CggIVFBS0WhMREaGioqI25zJgwABt3br1S+cMAACs5csuBTtjxowvvRRsWlral14KNj4+/ksvBfvFAxFf1F2uLtOVrxDRGVdy4Sor/qNn/rnUp674nOwsXfnv2JX4sx0dcpZ4AACAtlj9UrBS97u6TFe8QkRnXsmFq6z4j575pys+Jztbd+mZP1eXIbADAIBOY9VLwUrd5+oyXfkKEZ1xJReusuI/euafS/3qis/JztKV/45diT9XlyGwAwCAG87ql4KVut/VZbrivDvzKidcZcV/9Mw/XfE52dm6S8/82Qa/zxIPAABwvb54KdhLLl0K9lIY/+KlYC+5dCnYL17m9dKlYC+50qVg9+/fr+rqarPmyy4FCwCAFXCEHQAAdIhz587pf/7nf8zbly4FGxERoQEDBpiXgo2Li1NcXJzy8vJavRRsv379FBERoZycnFYvBbt69WpJ0mOPPdbqpWCXLFmi06dPcylYAECXQGDHDXX709s6/DHsAYbyhzd/742PZQFA5+FSsAAAXB8COwAA6BBcChYAgOvDd9gBAAAAALAgAjsAAAAAABZEYAcAAAAAwIII7AAAAAAAWBCBHQAAAAAACyKwAwAAAABgQQR2AAAAAAAsiMAOAAAAAIAFEdgBAAAAALAgAjsAAAAAABZEYAcAAAAAwIII7AAAAAAAWBCBHQAAAAAACyKwAwAAAABgQQR2AAAAAAAsiMAOAAAAAIAFEdgBAAAAALAgAjsAAAAAABZEYAcAAAAAwIII7AAAAAAAWBCBHQAAAAAACyKwAwAAAABgQQR2AAAAAAAsiMAOAAAAAIAFEdgBAAAAALAgAjsAAAAAABZEYAcAAAAAwIII7AAAAAAAWBCBHQAAAAAACyKwAwAAAABgQQR2AAAAAAAsiMAOAAAAAIAFEdgBAAAAALAgAjsAAAAAABZEYAcAAAAAwIII7AAAAAAAWBCBHQAAAAAACyKwAwAAAABgQQR2AAAAAAAsKLCzJwAAAAAAPU1C7uvyNNk6exqmD5+f2NlTwBVwhB0AAAAAAAsisAMAAAAAYEEEdgAAAAAALIjADgAAAACABXHSOQBoJ7c/va2zp9ACJ5ABAADougjsAAAAsOSbjgDQ0/GReAAAAAAALIjADgAAAACABRHYAQAAAACwIAI7AAAAAAAWRGAHAAAAAMCCCOwAAAAAAFgQgR0AAAAAAAsisAMAAAAAYEEEdgAAAAAALKjLB/aXXnpJAwcOVO/evZWYmKi//OUvnT0lAABgUew3AAC6ki4d2H//+98rOztbCxYs0Hvvvad7771X999/v44dO9bZUwMAABbDfgMAoKvp0oF9+fLlmj59un7yk59o0KBBWrlypWJjY7Vq1arOnhoAALAY9hsAAF1NYGdP4Fo1NjaqsrJSTz/9tM94amqqKioqrngfj8cjj8dj3q6rq5MknT59Wl6vt+Mme4N4vV5duHBBn376qYKCgjp7OlcU+Pn5jn+Mi4YuXLioQG8vNV20dfjjWRV9+Lue3Iuv5/yb+d/2Xob+ZehFfXPBH+TppD7snj+uUx73izrib+XZs2clSYZhtMv60P6stt+QtPiN67q/P672ud9ldwrbWU9+zbhW9Mw/Vu3XF/cZrOLSfkNXyDn+8Ge/ocv+bf7kk0/U1NSk6Ohon/Ho6GjV1NRc8T6LFy/WwoULW4wPHDiwQ+aIzpPR2ROwCPrwd/SiWWf3IXJZJ0+gg509e1YOh6Ozp4Er6On7DZ393O9q6Jf/6Jl/6NfVYb+hCwf2S2w233elDMNoMXbJ/PnzNWfOHPP2xYsXdfr0afXr16/V+3Ql9fX1io2N1fHjx9W3b9/Onk6noQ/N6MPf0Ytm9KFZR/TBMAydPXtWMTEx7bI+dJyeuN/Ac98/9Mt/9Mw/9Mt/3a1n/uw3dNnAHhkZqYCAgBbvitfW1rZ49/wSu90uu93uM3bzzTd31BQ7Td++fbvFL/L1og/N6MPf0Ytm9KFZe/eBI+vWxn4Dz31/0S//0TP/0C//daeeXe1+Q5c96VxwcLASExNVVlbmM15WVqaRI0d20qwAAIAVsd8AAOiKuuwRdkmaM2eOXC6Xhg0bpuTkZL388ss6duyYHn/88c6eGgAAsBj2GwAAXU2XDuw/+MEP9Omnn+oXv/iFqqurlZCQoNdee0233XZbZ0+tU9jtdj3zzDMtPr7X09CHZvTh7+hFM/rQjD70XD11v4Hfef/QL//RM//QL//15J7ZDK5BAwAAAACA5XTZ77ADAAAAANCdEdgBAAAAALAgAjsAAAAAABZEYAcAAAAAwIII7F2Yx+PRN7/5TdlsNlVVVfksO3bsmCZNmqSwsDBFRkYqKytLjY2NPjX79u3T6NGjFRISoq985Sv6xS9+oa5yDsIPP/xQ06dP18CBAxUSEqKvfe1reuaZZ1psY3fvQ1teeuklDRw4UL1791ZiYqL+8pe/dPaU2s3ixYt1zz33qE+fPoqKitIDDzygw4cP+9QYhqHc3FzFxMQoJCREY8aM0YEDB3xqPB6PZs+ercjISIWFhWny5Mk6ceLEjdyUdrV48WLZbDZlZ2ebYz2pDx999JF+9KMfqV+/fgoNDdU3v/lNVVZWmst7Ui8AqX1fK3uKRYsWaeTIkQoNDdXNN998xRr65as7729cr7fffluTJk1STEyMbDab/vjHP/osv5rXpZ6kvfbvuhsCexc2b948xcTEtBhvamrSxIkTdf78eZWXl6u4uFibN2/W3LlzzZr6+nqlpKQoJiZGe/fuVUFBgZYuXarly5ffyE24Zv/93/+tixcvavXq1Tpw4IBWrFihX/3qV/rZz35m1vSEPrTm97//vbKzs7VgwQK99957uvfee3X//ffr2LFjnT21drFjxw7NmjVLu3btUllZmT7//HOlpqbq/PnzZk1+fr6WL1+uwsJC7d27V06nUykpKTp79qxZk52drS1btqi4uFjl5eU6d+6c0tPT1dTU1BmbdV327t2rl19+WXfffbfPeE/pg9vt1qhRoxQUFKQ//elPOnjwoJYtW+azw91TegFc0l6vlT1JY2OjHnzwQT3xxBNXXE6/fHX3/Y3rdf78eX3jG99QYWHhFZdfzetST9Je+3fdjoEu6bXXXjPuvPNO48CBA4Yk47333vNZ1qtXL+Ojjz4yx373u98ZdrvdqKurMwzDMF566SXD4XAYn332mVmzePFiIyYmxrh48eIN2472lJ+fbwwcONC83VP7YBiGMXz4cOPxxx/3GbvzzjuNp59+upNm1LFqa2sNScaOHTsMwzCMixcvGk6n03j++efNms8++8xwOBzGr371K8MwDOPMmTNGUFCQUVxcbNZ89NFHRq9evYySkpIbuwHX6ezZs0ZcXJxRVlZmjB492vjpT39qGEbP6sNTTz1lfPvb3251eU/qBdCWa3mt7IleeeUVw+FwtBinX7562v7G9ZBkbNmyxbx9Na9LPd217N91Rxxh74JOnjypzMxMbdiwQaGhoS2W79y5UwkJCT5H39PS0uTxeMyPh+7cuVOjR4+W3W73qfn444/14Ycfdvg2dIS6ujpFRESYt3tqHxobG1VZWanU1FSf8dTUVFVUVHTSrDpWXV2dJJn//48cOaKamhqfHtjtdo0ePdrsQWVlpbxer09NTEyMEhISulyfZs2apYkTJ2r8+PE+4z2pD6+++qqGDRumBx98UFFRURo6dKjWrFljLu9JvQDaci2vlfg7+vV3PXF/oz1dzetST3ct+3fdEYG9izEMQ9OmTdPjjz+uYcOGXbGmpqZG0dHRPmPh4eEKDg5WTU1NqzWXbl+q6Ur+93//VwUFBXr88cfNsZ7YB0n65JNP1NTUdMXt6qrb1BbDMDRnzhx9+9vfVkJCgqS//79rqwc1NTUKDg5WeHh4qzVdQXFxsd59910tXry4xbKe1Ie//e1vWrVqleLi4vT666/r8ccfV1ZWln77299K6lm9AFpzra+V+Dv69Xc9bX+jvV3N61JPdq37d90Rgd0icnNzZbPZ2vx55513VFBQoPr6es2fP7/N9dlsthZjhmH4jF9eY/z/J1q70n1vlKvtwxd9/PHHmjBhgh588EH95Cc/8VnWVfvQHq60XV19m67kySef1Pvvv6/f/e53LZZdSw+6Up+OHz+un/70pyoqKlLv3r1brevufZCkixcv6lvf+pby8vI0dOhQzZgxQ5mZmVq1apVPXU/oBbq/znit7MqupV9t6e798ldP2d/oKPTvytp7/64rC+zsCaDZk08+qR/+8Idt1tx+++167rnntGvXLp+PcEvSsGHD9PDDD2v9+vVyOp3avXu3z3K32y2v12u+I+V0Olu8E1VbWyup5btWN9LV9uGSjz/+WGPHjlVycrJefvlln7qu3IfrERkZqYCAgCtuV1fdptbMnj1br776qt5++23deuut5rjT6ZTU/E5s//79zfEv9sDpdKqxsVFut9vniGptba1Gjhx5g7bg+lRWVqq2tlaJiYnmWFNTk95++20VFhaaZ1bt7n2QpP79+2vw4ME+Y4MGDdLmzZsl9ZzfCfQMN/q1sqvzt19t6Qn9ulo9aX+jI1zN61JPdT37d93SDf7OPK7T0aNHjX379pk/r7/+uiHJ+H//7/8Zx48fNwzj7ydE+fjjj837FRcXtzjZ2s0332x4PB6z5vnnn+9SJ1s7ceKEERcXZ/zwhz80Pv/88xbLe0ofrmT48OHGE0884TM2aNCgbnMSmIsXLxqzZs0yYmJijL/+9a9XXO50Oo0XXnjBHPN4PFc8wdjvf/97s+bjjz/uUicYq6+v9/l7sG/fPmPYsGHGj370I2Pfvn09pg+GYRgPPfRQi5POZWdnG8nJyYZh9JzfCeBy7fFa2RN92Unn6Fez7r6/0Z7Uyknn2npd6mnaY/+uOyKwd3FHjhxpcZb4zz//3EhISDDGjRtnvPvuu8b27duNW2+91XjyySfNmjNnzhjR0dHGQw89ZOzbt8/4wx/+YPTt29dYunRpJ2yF/z766CPj61//uvGd73zHOHHihFFdXW3+XNIT+tCa4uJiIygoyFi7dq1x8OBBIzs72wgLCzM+/PDDzp5au3jiiScMh8NhvPXWWz7/7y9cuGDWPP/884bD4TD+8Ic/GPv27TMeeugho3///kZ9fb1Z8/jjjxu33nqrsX37duPdd981vvOd7xjf+MY3rrhT21V88SzxhtFz+rBnzx4jMDDQWLRokfHBBx8YGzduNEJDQ42ioiKzpqf0ArikvV4re5KjR48a7733nrFw4ULjpptuMt577z3jvffeM86ePWsYBv26XHff37heZ8+eNX+HJBnLly833nvvPePo0aOGYVzd61JP0l77d90Ngb2Lu1JgN4zmF5yJEycaISEhRkREhPHkk0/6XLrMMAzj/fffN+69917DbrcbTqfTyM3N7TJHlV955RVD0hV/vqi796EtL774onHbbbcZwcHBxre+9S3zkhjdQWv/71955RWz5uLFi8YzzzxjOJ1Ow263G/fdd5+xb98+n/U0NDQYTz75pBEREWGEhIQY6enpxrFjx27w1rSvywN7T+rDf/zHfxgJCQmG3W437rzzTuPll1/2Wd6TegEYRvu+VvYUjz766BX79eabb5o19MtXd97fuF5vvvnmFX+fHn30UcMwru51qSdpr/277sZmGP//GbYAAAAAAIBlcJZ4AAAAAAAsiMAOAAAAAIAFEdgBAAAAALAgAjsAAAAAABZEYAcAAAAAwIII7AAAAAAAWBCBHQAAAAAACyKwAwAAAABgQQR2AAAAAAAsiMAOAAAAAIAFEdgBAAAAALAgAjsAAAAAABZEYAcAAAAAwIII7AAAAAAAWBCBHQAAAAAACyKwAwAAAABgQQR2AAAAAAAsiMAOAAAAAIAFEdgBAAAAALAgAjsAAAAAABZEYAcAAAAAwIII7AAAAAAAWBCBHQAAAAAACyKwAwAAAABgQQR2AAAAAAAsiMAOAAAAAIAFEdgBAAAAALAgAjsAAAAAABZEYAcAAAAAwIII7AAAAAAAWBCBHQAAAAAACyKwAwAAAABgQQR2AAAAAAAsiMAOAAAAAIAFEdgBAAAAALAgAjsAAAAAABZEYAcAAAAAwIII7AAAAAAAWBCBHQAAAAAACyKwAwAAAABgQQR2AAAAAAAsiMAOAAAAAIAFEdgBAAAAALAgAjsAAAAAABZEYAcAAAAAwIII7AAAAAAAWBCBHQAAAAAACyKwAwAAAABgQQR2AAAAAAAsiMAOAAAAAIAFEdgBAAAAALAgAjsAAAAAABZEYAcAAAAAwIII7AAAAAAAWBCBHQAAAAAACyKwAwAAAABgQQR2AAAAAAAsiMAOAAAAAIAFEdgBAAAAALAgAjsAAAAAABZEYAcAAAAAwIII7AAAAAAAWBCBHQAAAAAACyKwAwAAAABgQQR2AAAAAAAsiMAOAAAAAIAFEdgBAAAAALAgAjsAAAAAABZEYAcAAAAAwIII7AAAAAAAWBCBHQAAAAAACyKwAwAAAABgQQR2AAAAAAAsiMAOAAAAAIAFEdgBAAAAALAgAjsAAAAAABZEYAcAAAAAwIII7AAAAAAAWBCBHehmbDbbl/7k5uZ26hw//PBD2Ww2rVu3rlPnAQAAAFhZYGdPAED72rlz5xXHP//8cz3yyCP66KOP9N3vfvcGzwoAAACAvwjsQDczYsSIK45nZWXpyJEjWr16tYYPH36DZwUAAADAX3wkHugBNmzYoIKCAk2fPl2PPfaYOX769GnNnDlTX/nKVxQcHKyvfvWrWrBggTwej8/9bTabnnzySW3YsEGDBg1SaGiovvGNb2jr1q0+df/zP/+jH//4x4qLi1NoaKi+8pWvaNKkSdq3b98N2U4AAACgO+EIO9DNvffee5oxY4buuecevfjii+b4Z599prFjx+p///d/tXDhQt199936y1/+osWLF6uqqkrbtm3zWc+2bdu0d+9e/eIXv9BNN92k/Px8ff/739fhw4f11a9+VZL08ccfq1+/fnr++ed1yy236PTp01q/fr2SkpL03nvvKT4+/oZuOwAAANCVEdiBbuyTTz7R97//fd10003avHmz7Ha7uWz9+vV6//339W//9m968MEHJUkpKSm66aab9NRTT6msrEwpKSlmfUNDg7Zv364+ffpIkr71rW8pJiZG//Zv/6ann35aknTffffpvvvuM+/T1NSkiRMn6q677tLq1au1fPnyG7HZAAAAQLfAR+KBbqqpqUk//OEPdeLECf3+979XbGysz/I///nPCgsL0z/8wz/4jE+bNk2S9MYbb/iMjx071gzrkhQdHa2oqCgdPXrUHPv888+Vl5enwYMHKzg4WIGBgQoODtYHH3ygQ4cOtfMWAgAAAN0bR9iBbmrevHl64403tHTpUo0dO7bF8k8//VROp1M2m81nPCoqSoGBgfr00099xvv169diHXa7XQ0NDebtOXPm6MUXX9RTTz2l0aNHKzw8XL169dJPfvITnzoAAAAAX47ADnRDv/vd77R8+XL94Ac/0Ny5c69Y069fP+3evVuGYfiE9traWn3++eeKjIz0+3GLior0yCOPKC8vz2f8k08+0c033+z3+gAAAICejI/EA93M+++/r5/85CdKSEjQ2rVrW60bN26czp07pz/+8Y8+47/97W/N5f6y2Ww+35OXmk9W99FHH/m9LgAAAKCn4wg70I243W498MAD8ng8euqpp1q9nNott9yiRx55RC+++KIeffRRffjhhxoyZIjKy8uVl5en7373uxo/frzfj5+enq5169bpzjvv1N13363KykotWbJEt9566/VuGgAAANDjENiBbuS//uu/dOTIEUmSy+Vqte7RRx/VunXr9Oabb2rBggVasmSJTp06pa985SvKycnRM888c02P/8tf/lJBQUFavHixzp07p29961v6wx/+oH/5l3+5pvUBAAAAPZnNMAyjsycBAAAAAAB88R12AAAAAAAsiMAOAAAAAIAFEdgBAAAAALAgAjsAAAAAABZEYAcAAAAAwIII7AAAAAAAWBCBHQAAAAAACwrs7Al0posXL+rjjz9Wnz59ZLPZOns6AIAuyjAMnT17VjExMerVi/fCAQBA++jRgf3jjz9WbGxsZ08DANBNHD9+XLfeemtnTwMAAHQTPTqw9+nTR1LzDlbfvn2vWOP1elVaWqrU1FQFBQXdyOl1CfSndfSmbfSnbfSndVbsTX19vWJjY83XFQAAgPbQowP7pY/B9+3bt83AHhoaqr59+1pmx9BK6E/r6E3b6E/b6E/rrNwbvl4FAADaE1+0AwAAAADAggjsAAAAAABYEIEdAAAAAAALIrADAAAAAGBBBHYAAAAAACyIwA4AAAAAgAUR2AEAAAAAsCACOwAAAAAAFkRgBwAAAADAggjsAAAAAABYEIEdAAAAAAAL8juwf/TRR/rRj36kfv36KTQ0VN/85jdVWVlpLjcMQ7m5uYqJiVFISIjGjBmjAwcO+KzD4/Fo9uzZioyMVFhYmCZPnqwTJ0741LjdbrlcLjkcDjkcDrlcLp05c8an5tixY5o0aZLCwsIUGRmprKwsNTY2+rtJAAAAAABYjl+B3e12a9SoUQoKCtKf/vQnHTx4UMuWLdPNN99s1uTn52v58uUqLCzU3r175XQ6lZKSorNnz5o12dnZ2rJli4qLi1VeXq5z584pPT1dTU1NZk1GRoaqqqpUUlKikpISVVVVyeVymcubmpo0ceJEnT9/XuXl5SouLtbmzZs1d+7c62gHAAAAAADWEOhP8QsvvKDY2Fi98sor5tjtt99u/rdhGFq5cqUWLFigKVOmSJLWr1+v6Ohobdq0STNmzFBdXZ3Wrl2rDRs2aPz48ZKkoqIixcbGavv27UpLS9OhQ4dUUlKiXbt2KSkpSZK0Zs0aJScn6/Dhw4qPj1dpaakOHjyo48ePKyYmRpK0bNkyTZs2TYsWLVLfvn2vqzEAAAAAAHQmv46wv/rqqxo2bJgefPBBRUVFaejQoVqzZo25/MiRI6qpqVFqaqo5ZrfbNXr0aFVUVEiSKisr5fV6fWpiYmKUkJBg1uzcuVMOh8MM65I0YsQIORwOn5qEhAQzrEtSWlqaPB6Pz0f0AQAAAADoivw6wv63v/1Nq1at0pw5c/Szn/1Me/bsUVZWlux2ux555BHV1NRIkqKjo33uFx0draNHj0qSampqFBwcrPDw8BY1l+5fU1OjqKioFo8fFRXlU3P544SHhys4ONisuZzH45HH4zFv19fXS5K8Xq+8Xu8V73NpvLXlPR39aR29aRv9aRv9aZ0Ve2OluQAAgO7Dr8B+8eJFDRs2THl5eZKkoUOH6sCBA1q1apUeeeQRs85ms/nczzCMFmOXu7zmSvXXUvNFixcv1sKFC1uMl5aWKjQ0tM35lZWVtbm8p6M/raM3baM/baM/rbNSby5cuNDZUwAAAN2QX4G9f//+Gjx4sM/YoEGDtHnzZkmS0+mU1Hz0u3///mZNbW2teTTc6XSqsbFRbrfb5yh7bW2tRo4cadacPHmyxeOfOnXKZz27d+/2We52u+X1elsceb9k/vz5mjNnjnm7vr5esbGxSk1NbfU7716vV2VlZUpJSVFQUNAVa3oy+tO66+lNQu7rHTSra7M/N63d18nvTtvoT+us2JtLn9gCAABoT34F9lGjRunw4cM+Y3/961912223SZIGDhwop9OpsrIyDR06VJLU2NioHTt26IUXXpAkJSYmKigoSGVlZZo6daokqbq6Wvv371d+fr4kKTk5WXV1ddqzZ4+GDx8uSdq9e7fq6urMUJ+cnKxFixapurrafHOgtLRUdrtdiYmJV5y/3W6X3W5vMR4UFPSlO31XU9OT0Z/WXUtvPE1tfyLlRuvI/7f87rSN/rTOSr2xyjwAAED34ldg/6d/+ieNHDlSeXl5mjp1qvbs2aOXX35ZL7/8sqTmj6hnZ2crLy9PcXFxiouLU15enkJDQ5WRkSFJcjgcmj59uubOnat+/fopIiJCOTk5GjJkiHnW+EGDBmnChAnKzMzU6tWrJUmPPfaY0tPTFR8fL0lKTU3V4MGD5XK5tGTJEp0+fVo5OTnKzMzkDPEAAAAAgC7Pr8B+zz33aMuWLZo/f75+8YtfaODAgVq5cqUefvhhs2bevHlqaGjQzJkz5Xa7lZSUpNLSUvXp08esWbFihQIDAzV16lQ1NDRo3LhxWrdunQICAsyajRs3Kisryzyb/OTJk1VYWGguDwgI0LZt2zRz5kyNGjVKISEhysjI0NKlS6+5GQAAAAAAWIVfgV2S0tPTlZ6e3upym82m3Nxc5ebmtlrTu3dvFRQUqKCgoNWaiIgIFRUVtTmXAQMGaOvWrV86ZwAAAAAAuhq/rsMOAAAAAABuDAI7AAAAAAAWRGAHAAAAAMCCCOwAAAAAAFgQgR0AAAAAAAsisAMAAAAAYEEEdgAAAAAALIjADgAAAACABRHYAQAAAACwIAI7AAAAAAAWRGAHAAAAAMCCCOwAAAAAAFgQgR0AAAAAAAsisAMAAAAAYEEEdgAAAAAALIjADgAAAACABRHYAQAAAACwIAI7AAAAAAAWRGAHAAAAAMCCCOwAAAAAAFgQgR0AAAAAAAsisAMAAAAAYEEEdgAAAAAALIjADgAAAACABRHYAQAAAACwIAI7AAAAAAAWRGAHAAAAAMCCCOwAAAAAAFgQgR0AAAAAAAsisAMAAAAAYEEEdgAAAAAALIjADgAAAACABRHYAQAAAACwIAI7AAAAAAAWRGAHAAAAAMCCCOwAAAAAAFgQgR0AAAAAAAsisAMAAAAAYEEEdgAAAAAALIjADgAAAACABRHYAQAAAACwIAI7AAAAAAAWRGAHAAAAAMCCCOwAAAAAAFgQgR0AAAAAAAsisAMAAAAAYEEEdgAAAAAALIjADgAAAACABRHYAQAAAACwIAI7AAAAAAAWRGAHAAAAAMCCCOwAAAAAAFgQgR0AAAAAAAvyK7Dn5ubKZrP5/DidTnO5YRjKzc1VTEyMQkJCNGbMGB04cMBnHR6PR7Nnz1ZkZKTCwsI0efJknThxwqfG7XbL5XLJ4XDI4XDI5XLpzJkzPjXHjh3TpEmTFBYWpsjISGVlZamxsdHPzQcAAAAAwJr8PsJ+1113qbq62vzZt2+fuSw/P1/Lly9XYWGh9u7dK6fTqZSUFJ09e9asyc7O1pYtW1RcXKzy8nKdO3dO6enpampqMmsyMjJUVVWlkpISlZSUqKqqSi6Xy1ze1NSkiRMn6vz58yovL1dxcbE2b96suXPnXmsfAAAAAACwlEC/7xAY6HNU/RLDMLRy5UotWLBAU6ZMkSStX79e0dHR2rRpk2bMmKG6ujqtXbtWGzZs0Pjx4yVJRUVFio2N1fbt25WWlqZDhw6ppKREu3btUlJSkiRpzZo1Sk5O1uHDhxUfH6/S0lIdPHhQx48fV0xMjCRp2bJlmjZtmhYtWqS+fftec0MAAAAAALACvwP7Bx98oJiYGNntdiUlJSkvL09f/epXdeTIEdXU1Cg1NdWstdvtGj16tCoqKjRjxgxVVlbK6/X61MTExCghIUEVFRVKS0vTzp075XA4zLAuSSNGjJDD4VBFRYXi4+O1c+dOJSQkmGFdktLS0uTxeFRZWamxY8deaz8AXMHtT29r93XaAwzlD5cScl+Xp8nm9/0/fH5iu88JAAAAsBK/AntSUpJ++9vf6o477tDJkyf13HPPaeTIkTpw4IBqamokSdHR0T73iY6O1tGjRyVJNTU1Cg4OVnh4eIuaS/evqalRVFRUi8eOioryqbn8ccLDwxUcHGzWXInH45HH4zFv19fXS5K8Xq+8Xu8V73NpvLXlPR39ad319MYeYLT3dCzH3svw+ddf3f13judW66zYGyvNBQAAdB9+Bfb777/f/O8hQ4YoOTlZX/va17R+/XqNGDFCkmSz+R4pMwyjxdjlLq+5Uv211Fxu8eLFWrhwYYvx0tJShYaGtjnHsrKyNpf3dPSnddfSm/zhHTARi3p22MVrut9rr73WzjOxJp5brbNSby5cuNDZUwAAAN2Q3x+J/6KwsDANGTJEH3zwgR544AFJzUe/+/fvb9bU1taaR8OdTqcaGxvldrt9jrLX1tZq5MiRZs3JkydbPNapU6d81rN7926f5W63W16vt8WR9y+aP3++5syZY96ur69XbGysUlNTW/3eu9frVVlZmVJSUhQUFNRWO3ok+tO66+lNQu7rHTQr67D3MvTssIv6+Tu95Lno/0fi9+emdcCsrIPnVuus2JtLn9gCAABoT9cV2D0ejw4dOqR7771XAwcOlNPpVFlZmYYOHSpJamxs1I4dO/TCCy9IkhITExUUFKSysjJNnTpVklRdXa39+/crPz9fkpScnKy6ujrt2bNHw4c3H2bcvXu36urqzFCfnJysRYsWqbq62nxzoLS0VHa7XYmJia3O1263y263txgPCgr60p2+q6npyehP666lN9fyne6uynPRdk3b21N+33hutc5KvbHKPAAAQPfiV2DPycnRpEmTNGDAANXW1uq5555TfX29Hn30UdlsNmVnZysvL09xcXGKi4tTXl6eQkNDlZGRIUlyOByaPn265s6dq379+ikiIkI5OTkaMmSIedb4QYMGacKECcrMzNTq1aslSY899pjS09MVHx8vSUpNTdXgwYPlcrm0ZMkSnT59Wjk5OcrMzOQM8QAAAACAbsGvwH7ixAk99NBD+uSTT3TLLbdoxIgR2rVrl2677TZJ0rx589TQ0KCZM2fK7XYrKSlJpaWl6tOnj7mOFStWKDAwUFOnTlVDQ4PGjRundevWKSAgwKzZuHGjsrKyzLPJT548WYWFhebygIAAbdu2TTNnztSoUaMUEhKijIwMLV269LqaAQAAAACAVfgV2IuLi9tcbrPZlJubq9zc3FZrevfurYKCAhUUFLRaExERoaKiojYfa8CAAdq6dWubNQAAAAAAdFW9OnsCAAAAAACgJQI7AAAAAAAWRGAHAAAAAMCCCOwAAAAAAFgQgR0AAAAAAAsisAMAAAAAYEEEdgAAAAAALIjADgAAAACABRHYAQAAAACwIAI7AAAAAAAWRGAHAAAAAMCCCOwAAAAAAFgQgR0AAAAAAAsisAMAAAAAYEEEdgAAAAAALIjADgAAAACABRHYAQAAAACwIAI7AAAAAAAWRGAHAAAAAMCCCOwAAAAAAFgQgR0AAAAAAAsisAMAAAAAYEEEdgAAAAAALIjADgAAAACABRHYAQAAAACwIAI7AAAAAAAWRGAHAAAAAMCCCOwAAAAAAFgQgR0AAAAAAAsisAMAAAAAYEEEdgAAAAAALIjADgAAAACABRHYAQAAAACwIAI7AAAAAAAWRGAHAAAAAMCCCOwAAAAAAFgQgR0AAAAAAAsisAMAAAAAYEEEdgAAAAAALIjADgAAAACABRHYAQAAAACwIAI7AAAAAAAWRGAHAAAAAMCCCOwAAAAAAFgQgR0AAAAAAAsisAMAAAAAYEEEdgAAAAAALIjADgAAAACABRHYAQAAAACwIAI7AAAAAAAWRGAHAAAAAMCCCOwAAAAAAFgQgR0AAAAAAAu6rsC+ePFi2Ww2ZWdnm2OGYSg3N1cxMTEKCQnRmDFjdODAAZ/7eTwezZ49W5GRkQoLC9PkyZN14sQJnxq32y2XyyWHwyGHwyGXy6UzZ8741Bw7dkyTJk1SWFiYIiMjlZWVpcbGxuvZJAAAAAAALOGaA/vevXv18ssv6+677/YZz8/P1/Lly1VYWKi9e/fK6XQqJSVFZ8+eNWuys7O1ZcsWFRcXq7y8XOfOnVN6erqamprMmoyMDFVVVamkpEQlJSWqqqqSy+Uylzc1NWnixIk6f/68ysvLVVxcrM2bN2vu3LnXukkAAAAAAFjGNQX2c+fO6eGHH9aaNWsUHh5ujhuGoZUrV2rBggWaMmWKEhIStH79el24cEGbNm2SJNXV1Wnt2rVatmyZxo8fr6FDh6qoqEj79u3T9u3bJUmHDh1SSUmJfv3rXys5OVnJyclas2aNtm7dqsOHD0uSSktLdfDgQRUVFWno0KEaP368li1bpjVr1qi+vv56+wIAAAAAQKcKvJY7zZo1SxMnTtT48eP13HPPmeNHjhxRTU2NUlNTzTG73a7Ro0eroqJCM2bMUGVlpbxer09NTEyMEhISVFFRobS0NO3cuVMOh0NJSUlmzYgRI+RwOFRRUaH4+Hjt3LlTCQkJiomJMWvS0tLk8XhUWVmpsWPHtpi3x+P5/9q7+xit6jt/+O+Rh+GhMOUhzEgKlW1ZVoLt3cVKB9uKqwwagXabrbthM6uJRV0UlgBrtd67HX8N0KJVN7C1tjHaFC3djT9qoy6d6Z2KJQgqW9JiuybtWtHKiC3jgEhnpsN1/2G40hGGOjw4h5nXKzF4vudznfM9n8yZzHu+13UmbW1t5e0jwb6joyMdHR3HvNYj493t7+/0p3sn05vKAaVTPZ3CqTyr1OXfnurrX3Pure4VsTdFmgsA0Hf0OLBv2LAh//3f/51nnnnmqH3Nzc1Jkurq6i7j1dXVefHFF8s1gwcP7rIyf6TmyOubm5szbty4o44/bty4LjVvP8+oUaMyePDgcs3brV69OrfddttR442NjRk2bNgxX3NEU1PTcff3d/rTvRPpzZoLTsNECupL5x8+odc9/vjjp3gmxeTe6l6RevPmm2/29hQAgD6oR4H9pZdeyj/90z+lsbExQ4YM6bauoqKiy3apVDpq7O3eXnOs+hOp+WO33HJLli1bVt7ev39/JkyYkLq6uowcOfKYr+no6EhTU1Nmz56dQYMGHfca+iP96d7J9GZaww9O06yKo/KsUr50/uH8y7Nnpe3w8b8/HMuuhjmnYVbF4d7qXhF746NYAMDp0KPAvmPHjuzduzfTp08vj3V2dubJJ5/MunXryp8vb25uztlnn12u2bt3b3k1vKamJu3t7Wlpaemyyr53797MnDmzXPPqq68edf7XXnuty3G2b9/eZX9LS0s6OjqOWnk/orKyMpWVlUeNDxo06E/+0PdOavoz/eneifSmrbPnAfZM1Xa44oSut798vbm3ulek3hRlHgBA39Kjh85dcskl+dnPfpadO3eW/zv//PPz93//99m5c2f+7M/+LDU1NV3eptje3p7NmzeXw/j06dMzaNCgLjV79uzJrl27yjW1tbVpbW3N008/Xa7Zvn17Wltbu9Ts2rUre/bsKdc0NjamsrKyyy8UAAAA4EzUoxX2ESNGZNq0aV3Ghg8fnjFjxpTHly5dmlWrVmXy5MmZPHlyVq1alWHDhmXBggVJkqqqqlxzzTVZvnx5xowZk9GjR2fFihU577zzcumllyZJzj333Fx22WVZuHBh7r333iTJtddem7lz52bKlClJkrq6ukydOjX19fW5/fbbs2/fvqxYsSILFy7s9u3tAAAAcKY4oafEH89NN92UQ4cOZdGiRWlpacmMGTPS2NiYESNGlGvuuuuuDBw4MFdeeWUOHTqUSy65JA888EAGDBhQrnnwwQezZMmS8tPk58+fn3Xr1pX3DxgwII899lgWLVqUCy+8MEOHDs2CBQtyxx13nOpLAgAAgHfdSQf2J554ost2RUVFGhoa0tDQ0O1rhgwZkrVr12bt2rXd1owePTrr168/7rknTpyYRx99tCfTBQAAgDNCjz7DDgAAALw7BHYAAAAoIIEdAAAACkhgBwAAgAIS2AEAAKCABHYAAAAoIIEdAAAACkhgBwAAgAIS2AEAAKCABHYAAAAoIIEdAAAACkhgBwAAgAIS2AEAAKCABHYAAAAoIIEdAAAACkhgBwAAgAIS2AEAAKCABHYAAAAoIIEdAAAACkhgBwAAgAIS2AEAAKCABHYAAAAoIIEdAAAACkhgBwAAgAIa2NsTADgR59z8WG9P4Si//vIVvT0FAAD6ECvsAAAAUEACOwAAABSQwA4AAAAFJLADAABAAQnsAAAAUEACOwAAABSQwA4AAAAFJLADAABAAQnsAAAAUEACOwAAABSQwA4AAAAFJLADAABAAQnsAAAAUEACOwAAABSQwA4AAAAFJLADAABAAQnsAAAAUEACOwAAABSQwA4AAAAFJLADAABAAQnsAAAAUEACOwAAABSQwA4AAAAFJLADAABAAQnsAAAAUEACOwAAABSQwA4AAAAFJLADAABAAfUosN9zzz350Ic+lJEjR2bkyJGpra3Nf/3Xf5X3l0qlNDQ0ZPz48Rk6dGhmzZqV5557rssx2trasnjx4owdOzbDhw/P/Pnz8/LLL3epaWlpSX19faqqqlJVVZX6+vq8/vrrXWp2796defPmZfjw4Rk7dmyWLFmS9vb2Hl4+AAAAFFOPAvv73ve+fPnLX86zzz6bZ599Nn/1V3+VT33qU+VQvmbNmtx5551Zt25dnnnmmdTU1GT27Nk5cOBA+RhLly7Nxo0bs2HDhmzZsiVvvPFG5s6dm87OznLNggULsnPnzmzatCmbNm3Kzp07U19fX97f2dmZK664IgcPHsyWLVuyYcOGPPzww1m+fPnJ9gMAAAAKYWBPiufNm9dle+XKlbnnnnuybdu2TJ06NXfffXduvfXWfOYzn0mSfOtb30p1dXUeeuihXHfddWltbc19992Xb3/727n00kuTJOvXr8+ECRPywx/+MHPmzMkvfvGLbNq0Kdu2bcuMGTOSJN/85jdTW1ub559/PlOmTEljY2N+/vOf56WXXsr48eOTJF/96ldz9dVXZ+XKlRk5cuRJNwYAAAB6U48C+x/r7OzMf/7nf+bgwYOpra3NCy+8kObm5tTV1ZVrKisrc9FFF2Xr1q257rrrsmPHjnR0dHSpGT9+fKZNm5atW7dmzpw5eeqpp1JVVVUO60nysY99LFVVVdm6dWumTJmSp556KtOmTSuH9SSZM2dO2trasmPHjlx88cXHnHNbW1va2trK2/v370+SdHR0pKOj45ivOTLe3f7+Tn+6dzK9qRxQOtXTKZzKs0pd/u0LTuV94N7qXhF7U6S5AAB9R48D+89+9rPU1tbm97//fd7znvdk48aNmTp1arZu3Zokqa6u7lJfXV2dF198MUnS3NycwYMHZ9SoUUfVNDc3l2vGjRt31HnHjRvXpebt5xk1alQGDx5crjmW1atX57bbbjtqvLGxMcOGDTvudTc1NR13f3+nP907kd6sueA0TKSgvnT+4d6ewinz+OOPn/Jjure6V6TevPnmm709BQCgD+pxYJ8yZUp27tyZ119/PQ8//HCuuuqqbN68uby/oqKiS32pVDpq7O3eXnOs+hOpebtbbrkly5YtK2/v378/EyZMSF1dXbdvo+/o6EhTU1Nmz56dQYMGHfc6+iP96d7J9GZaww9O06yKo/KsUr50/uH8y7Nnpe3w8b9HnCl2Ncw5Zcdyb3WviL058o4tAIBTqceBffDgwfngBz+YJDn//PPzzDPP5N/+7d/y+c9/Pslbq99nn312uX7v3r3l1fCampq0t7enpaWlyyr73r17M3PmzHLNq6++etR5X3vttS7H2b59e5f9LS0t6ejoOGrl/Y9VVlamsrLyqPFBgwb9yR/63klNf6Y/3TuR3rR19o0A+060Ha7oM9d7Ou4B91b3itSboswDAOhbTvrvsJdKpbS1tWXSpEmpqanp8hbF9vb2bN68uRzGp0+fnkGDBnWp2bNnT3bt2lWuqa2tTWtra55++ulyzfbt29Pa2tqlZteuXdmzZ0+5prGxMZWVlZk+ffrJXhIAAAD0uh6tsH/hC1/I5ZdfngkTJuTAgQPZsGFDnnjiiWzatCkVFRVZunRpVq1alcmTJ2fy5MlZtWpVhg0blgULFiRJqqqqcs0112T58uUZM2ZMRo8enRUrVuS8884rPzX+3HPPzWWXXZaFCxfm3nvvTZJce+21mTt3bqZMmZIkqaury9SpU1NfX5/bb789+/bty4oVK7Jw4UJPiAcAAKBP6FFgf/XVV1NfX589e/akqqoqH/rQh7Jp06bMnj07SXLTTTfl0KFDWbRoUVpaWjJjxow0NjZmxIgR5WPcddddGThwYK688socOnQol1xySR544IEMGDCgXPPggw9myZIl5afJz58/P+vWrSvvHzBgQB577LEsWrQoF154YYYOHZoFCxbkjjvuOKlmAAAAQFH0KLDfd999x91fUVGRhoaGNDQ0dFszZMiQrF27NmvXru22ZvTo0Vm/fv1xzzVx4sQ8+uijx60BAACAM9VJf4YdAAAAOPUEdgAAACgggR0AAAAKSGAHAACAAhLYAQAAoIAEdgAAACgggR0AAAAKSGAHAACAAhLYAQAAoIAEdgAAACgggR0AAAAKSGAHAACAAhLYAQAAoIAEdgAAACgggR0AAAAKSGAHAACAAhLYAQAAoIAEdgAAACgggR0AAAAKSGAHAACAAhLYAQAAoIAEdgAAACgggR0AAAAKSGAHAACAAhLYAQAAoIAG9vYEoLedc/Njp+W4lQNKWXNBMq3hB2nrrDgt5wAAAPouK+wAAABQQAI7AAAAFJDADgAAAAUksAMAAEABCewAAABQQAI7AAAAFJDADgAAAAUksAMAAEABCewAAABQQAI7AAAAFJDADgAAAAUksAMAAEABCewAAABQQAI7AAAAFJDADgAAAAUksAMAAEABCewAAABQQAI7AAAAFJDADgAAAAUksAMAAEABCewAAABQQAI7AAAAFJDADgAAAAUksAMAAEABCewAAABQQAI7AAAAFFCPAvvq1avz0Y9+NCNGjMi4cePy6U9/Os8//3yXmlKplIaGhowfPz5Dhw7NrFmz8txzz3WpaWtry+LFizN27NgMHz488+fPz8svv9ylpqWlJfX19amqqkpVVVXq6+vz+uuvd6nZvXt35s2bl+HDh2fs2LFZsmRJ2tvbe3JJAAAAUEg9CuybN2/ODTfckG3btqWpqSl/+MMfUldXl4MHD5Zr1qxZkzvvvDPr1q3LM888k5qamsyePTsHDhwo1yxdujQbN27Mhg0bsmXLlrzxxhuZO3duOjs7yzULFizIzp07s2nTpmzatCk7d+5MfX19eX9nZ2euuOKKHDx4MFu2bMmGDRvy8MMPZ/ny5SfTDwAAACiEgT0p3rRpU5ft+++/P+PGjcuOHTvyyU9+MqVSKXfffXduvfXWfOYzn0mSfOtb30p1dXUeeuihXHfddWltbc19992Xb3/727n00kuTJOvXr8+ECRPywx/+MHPmzMkvfvGLbNq0Kdu2bcuMGTOSJN/85jdTW1ub559/PlOmTEljY2N+/vOf56WXXsr48eOTJF/96ldz9dVXZ+XKlRk5cuRJNwcAAAB6y0l9hr21tTVJMnr06CTJCy+8kObm5tTV1ZVrKisrc9FFF2Xr1q1Jkh07dqSjo6NLzfjx4zNt2rRyzVNPPZWqqqpyWE+Sj33sY6mqqupSM23atHJYT5I5c+akra0tO3bsOJnLAgAAgF7XoxX2P1YqlbJs2bJ8/OMfz7Rp05Ikzc3NSZLq6uoutdXV1XnxxRfLNYMHD86oUaOOqjny+ubm5owbN+6oc44bN65LzdvPM2rUqAwePLhc83ZtbW1pa2srb+/fvz9J0tHRkY6OjmO+5sh4d/v7u77Qn8oBpdNz3LNKXf6lq77Yn1N5H/SFe+t0KWJvijQXAKDvOOHAfuONN+anP/1ptmzZctS+ioqKLtulUumosbd7e82x6k+k5o+tXr06t91221HjjY2NGTZs2HHn19TUdNz9/d2Z3J81F5ze43/p/MOn9wRnuL7Un8cff/yUH/NMvrdOtyL15s033+ztKQAAfdAJBfbFixfn+9//fp588sm8733vK4/X1NQkeWv1++yzzy6P7927t7waXlNTk/b29rS0tHRZZd+7d29mzpxZrnn11VePOu9rr73W5Tjbt2/vsr+lpSUdHR1Hrbwfccstt2TZsmXl7f3792fChAmpq6vr9jPvHR0daWpqyuzZszNo0KDum9JP9YX+TGv4wWk5buVZpXzp/MP5l2fPStvh4//Cqj/qi/3Z1TDnlB2rL9xbp0sRe3PkHVsAAKdSjwJ7qVTK4sWLs3HjxjzxxBOZNGlSl/2TJk1KTU1Nmpqa8pGPfCRJ0t7ens2bN+crX/lKkmT69OkZNGhQmpqacuWVVyZJ9uzZk127dmXNmjVJktra2rS2tubpp5/OBRe8tfy5ffv2tLa2lkN9bW1tVq5cmT179pR/OdDY2JjKyspMnz79mPOvrKxMZWXlUeODBg36kz/0vZOa/uxM7k9b5+kNi22HK077Oc5kfak/p+MeOJPvrdOtSL0pyjwAgL6lR4H9hhtuyEMPPZRHHnkkI0aMKH9WvKqqKkOHDk1FRUWWLl2aVatWZfLkyZk8eXJWrVqVYcOGZcGCBeXaa665JsuXL8+YMWMyevTorFixIuedd175qfHnnntuLrvssixcuDD33ntvkuTaa6/N3LlzM2XKlCRJXV1dpk6dmvr6+tx+++3Zt29fVqxYkYULF3pCPAAAAGe8HgX2e+65J0kya9asLuP3339/rr766iTJTTfdlEOHDmXRokVpaWnJjBkz0tjYmBEjRpTr77rrrgwcODBXXnllDh06lEsuuSQPPPBABgwYUK558MEHs2TJkvLT5OfPn59169aV9w8YMCCPPfZYFi1alAsvvDBDhw7NggULcscdd/SoAQAAAFBEPX5L/J9SUVGRhoaGNDQ0dFszZMiQrF27NmvXru22ZvTo0Vm/fv1xzzVx4sQ8+uijf3JOAAAAcKY5qb/DDgAAAJweAjsAAAAUkMAOAAAABSSwAwAAQAEJ7AAAAFBAAjsAAAAUkMAOAAAABSSwAwAAQAEJ7AAAAFBAAjsAAAAUkMAOAAAABSSwAwAAQAEJ7AAAAFBAA3t7AgB9xTk3P3bKjlU5oJQ1FyTTGn6Qts6KEz7Or798xSmbEwAA7y4r7AAAAFBAAjsAAAAUkMAOAAAABSSwAwAAQAEJ7AAAAFBAAjsAAAAUkMAOAAAABSSwAwAAQAEJ7AAAAFBAAjsAAAAUkMAOAAAABSSwAwAAQAEJ7AAAAFBAAjsAAAAUkMAOAAAABSSwAwAAQAEJ7AAAAFBAAjsAAAAUkMAOAAAABSSwAwAAQAEJ7AAAAFBAAjsAAAAUkMAOAAAABSSwAwAAQAEJ7AAAAFBAAjsAAAAUkMAOAAAABSSwAwAAQAEJ7AAAAFBAAjsAAAAUkMAOAAAABSSwAwAAQAEJ7AAAAFBAAjsAAAAUkMAOAAAABSSwAwAAQAEJ7AAAAFBAAjsAAAAUkMAOAAAABdTjwP7kk09m3rx5GT9+fCoqKvK9732vy/5SqZSGhoaMHz8+Q4cOzaxZs/Lcc891qWlra8vixYszduzYDB8+PPPnz8/LL7/cpaalpSX19fWpqqpKVVVV6uvr8/rrr3ep2b17d+bNm5fhw4dn7NixWbJkSdrb23t6SQAAAFA4PQ7sBw8ezIc//OGsW7fumPvXrFmTO++8M+vWrcszzzyTmpqazJ49OwcOHCjXLF26NBs3bsyGDRuyZcuWvPHGG5k7d246OzvLNQsWLMjOnTuzadOmbNq0KTt37kx9fX15f2dnZ6644oocPHgwW7ZsyYYNG/Lwww9n+fLlPb0kAAAAKJyBPX3B5Zdfnssvv/yY+0qlUu6+++7ceuut+cxnPpMk+da3vpXq6uo89NBDue6669La2pr77rsv3/72t3PppZcmSdavX58JEybkhz/8YebMmZNf/OIX2bRpU7Zt25YZM2YkSb75zW+mtrY2zz//fKZMmZLGxsb8/Oc/z0svvZTx48cnSb761a/m6quvzsqVKzNy5MgTaggAAAAUwSn9DPsLL7yQ5ubm1NXVlccqKytz0UUXZevWrUmSHTt2pKOjo0vN+PHjM23atHLNU089laqqqnJYT5KPfexjqaqq6lIzbdq0clhPkjlz5qStrS07duw4lZcFAAAA77oer7AfT3Nzc5Kkurq6y3h1dXVefPHFcs3gwYMzatSoo2qOvL65uTnjxo076vjjxo3rUvP284waNSqDBw8u17xdW1tb2traytv79+9PknR0dKSjo+OYrzky3t3+/q4v9KdyQOn0HPesUpd/6Up/ju9U9edMvje7U8TvO0WaCwDQd5zSwH5ERUVFl+1SqXTU2Nu9veZY9SdS88dWr16d22677ajxxsbGDBs27Ljza2pqOu7+/u5M7s+aC07v8b90/uHTe4IznP4c38n25/HHHz9FMymeIn3fefPNN3t7CgBAH3RKA3tNTU2St1a/zz777PL43r17y6vhNTU1aW9vT0tLS5dV9r1792bmzJnlmldfffWo47/22mtdjrN9+/Yu+1taWtLR0XHUyvsRt9xyS5YtW1be3r9/fyZMmJC6urpuP/Pe0dGRpqamzJ49O4MGDfqTPehv+kJ/pjX84LQct/KsUr50/uH8y7Nnpe3w8X9h1R/pz/Gdqv7saphzCmdVDEX8vnPkHVsAAKfSKQ3skyZNSk1NTZqamvKRj3wkSdLe3p7NmzfnK1/5SpJk+vTpGTRoUJqamnLllVcmSfbs2ZNdu3ZlzZo1SZLa2tq0trbm6aefzgUXvLX8uX379rS2tpZDfW1tbVauXJk9e/aUfznQ2NiYysrKTJ8+/Zjzq6ysTGVl5VHjgwYN+pM/9L2Tmv7sTO5PW+fpDYtthytO+znOZPpzfCfbnzP1vnwnivR9pyjzAAD6lh4H9jfeeCO//OUvy9svvPBCdu7cmdGjR2fixIlZunRpVq1alcmTJ2fy5MlZtWpVhg0blgULFiRJqqqqcs0112T58uUZM2ZMRo8enRUrVuS8884rPzX+3HPPzWWXXZaFCxfm3nvvTZJce+21mTt3bqZMmZIkqaury9SpU1NfX5/bb789+/bty4oVK7Jw4UJPiAcAAOCM1+PA/uyzz+biiy8ubx95i/lVV12VBx54IDfddFMOHTqURYsWpaWlJTNmzEhjY2NGjBhRfs1dd92VgQMH5sorr8yhQ4dyySWX5IEHHsiAAQPKNQ8++GCWLFlSfpr8/Pnzu/zt9wEDBuSxxx7LokWLcuGFF2bo0KFZsGBB7rjjjp53AQAAAAqmx4F91qxZKZW6f2pxRUVFGhoa0tDQ0G3NkCFDsnbt2qxdu7bbmtGjR2f9+vXHncvEiRPz6KOP/sk5AwAAwJnmlP4ddgAAAODUENgBAACggAR2AAAAKCCBHQAAAApIYAcAAIACEtgBAACggAR2AAAAKCCBHQAAAApIYAcAAIACEtgBAACggAR2AAAAKCCBHQAAAApIYAcAAIACEtgBAACggAR2AAAAKCCBHQAAAApIYAcAAIACEtgBAACggAR2AAAAKCCBHQAAAApIYAcAAIACEtgBAACggAR2AAAAKCCBHQAAAApIYAcAAIACEtgBAACggAR2AAAAKCCBHQAAAApIYAcAAIACEtgBAACggAR2AAAAKCCBHQAAAApIYAcAAIACEtgBAACggAb29gToX865+bHengL0K0W753795St6ewoAAGcMK+wAAABQQAI7AAAAFJDADgAAAAUksAMAAEABCewAAABQQAI7AAAAFJDADgAAAAUksAMAAEABCewAAABQQAI7AAAAFJDADgAAAAUksAMAAEABCewAAABQQAI7AAAAFJDADgAAAAUksAMAAEABCewAAABQQAI7AAAAFNAZH9i/9rWvZdKkSRkyZEimT5+eH//4x709JQAAADhpZ3Rg/+53v5ulS5fm1ltvzU9+8pN84hOfyOWXX57du3f39tQAAADgpAzs7QmcjDvvvDPXXHNNPve5zyVJ7r777vzgBz/IPffck9WrV/fy7AB4u3Nufuykj1E5oJQ1FyTTGn6Qts6Kkz7er798xUkfAwDgdDhjA3t7e3t27NiRm2++uct4XV1dtm7deszXtLW1pa2trbzd2tqaJNm3b186OjqO+ZqOjo68+eab+d3vfpdBgwadotm/O2as/v9O+zkqzyrl//3I4fw/t/7ftB3+0z84n7FfcCdg4OFS3nzzcAZ2nJXOd9Cb/kZ/jk9/uneqe/O73/3upI9x4MCBJEmpVDrpYwEAHHHG5qff/va36ezsTHV1dZfx6urqNDc3H/M1q1evzm233XbU+KRJk07LHPuLBb09gQLTm+PTn+PTn+6dyt6M/eqpO9aBAwdSVVV16g4IAPRrZ2xgP6KiouvqSqlUOmrsiFtuuSXLli0rbx8+fDj79u3LmDFjun3N/v37M2HChLz00ksZOXLkqZt4H6E/3dOb49Of49Of7hWxN6VSKQcOHMj48eN7eyoAQB9yxgb2sWPHZsCAAUetpu/du/eoVfcjKisrU1lZ2WXsve997zs638iRIwvzg2ER6U/39Ob49Of49Kd7ReuNlXUA4FQ7Y58SP3jw4EyfPj1NTU1dxpuamjJz5sxemhUAAACcGmfsCnuSLFu2LPX19Tn//PNTW1ubb3zjG9m9e3euv/763p4aAAAAnJQzOrD/7d/+bX73u9/l//yf/5M9e/Zk2rRpefzxx/P+97//lJ2jsrIyX/ziF496Kz1v0Z/u6c3x6c/x6U/39AYA6C8qSv4GDQAAABTOGfsZdgAAAOjLBHYAAAAoIIEdAAAACkhgBwAAgAIS2I9j/vz5mThxYoYMGZKzzz479fX1eeWVV7rU7N69O/Pmzcvw4cMzduzYLFmyJO3t7b0043fHr3/961xzzTWZNGlShg4dmg984AP54he/eNR198feHLFy5crMnDkzw4YNy3vf+95j1vTn/nzta1/LpEmTMmTIkEyfPj0//vGPe3tKveLJJ5/MvHnzMn78+FRUVOR73/tel/2lUikNDQ0ZP358hg4dmlmzZuW5557rncn2gtWrV+ejH/1oRowYkXHjxuXTn/50nn/++S41/b1HAEDfJrAfx8UXX5z/+I//yPPPP5+HH344v/rVr/I3f/M35f2dnZ254oorcvDgwWzZsiUbNmzIww8/nOXLl/firE+///mf/8nhw4dz77335rnnnstdd92Vr3/96/nCF75QrumvvTmivb09n/3sZ/OP//iPx9zfn/vz3e9+N0uXLs2tt96an/zkJ/nEJz6Ryy+/PLt37+7tqb3rDh48mA9/+MNZt27dMfevWbMmd955Z9atW5dnnnkmNTU1mT17dg4cOPAuz7R3bN68OTfccEO2bduWpqam/OEPf0hdXV0OHjxYrunvPQIA+rgS79gjjzxSqqioKLW3t5dKpVLp8ccfL5111lml3/zmN+Wa73znO6XKyspSa2trb02zV6xZs6Y0adKk8rbevOX+++8vVVVVHTXen/tzwQUXlK6//vouY3/xF39Ruvnmm3tpRsWQpLRx48by9uHDh0s1NTWlL3/5y+Wx3//+96WqqqrS17/+9V6YYe/bu3dvKUlp8+bNpVJJjwCAvs8K+zu0b9++PPjgg5k5c2YGDRqUJHnqqacybdq0jB8/vlw3Z86ctLW1ZceOHb011V7R2tqa0aNHl7f15vj6a3/a29uzY8eO1NXVdRmvq6vL1q1be2lWxfTCCy+kubm5S68qKytz0UUX9dtetba2Jkn5e40eAQB9ncD+J3z+85/P8OHDM2bMmOzevTuPPPJIeV9zc3Oqq6u71I8aNSqDBw9Oc3Pzuz3VXvOrX/0qa9euzfXXX18e05vj66/9+e1vf5vOzs6jrr26urpPX/eJONIPvXpLqVTKsmXL8vGPfzzTpk1LokcAQN/X7wJ7Q0NDKioqjvvfs88+W67/53/+5/zkJz9JY2NjBgwYkH/4h39IqVQq76+oqDjqHKVS6ZjjRdfT3iTJK6+8kssuuyyf/exn87nPfa7Lvr7Um+TE+nM8fa0/PfH2a+wv130i9OotN954Y37605/mO9/5zlH79AgA6KsG9vYE3m033nhj/u7v/u64Neecc075/8eOHZuxY8fmz//8z3PuuedmwoQJ2bZtW2pra1NTU5Pt27d3eW1LS0s6OjqOWvE5E/S0N6+88kouvvji1NbW5hvf+EaXur7Wm6Tn/Tmevtifd2Ls2LEZMGDAUaufe/fu7dPXfSJqamqSvLWKfPbZZ5fH+2OvFi9enO9///t58skn8773va88rkcAQF/X7wL7kQB+Io6srLe1tSVJamtrs3LlyuzZs6f8w2JjY2MqKyszffr0UzPhd1FPevOb3/wmF198caZPn577778/Z53V9c0afa03ycl97bxdX+zPOzF48OBMnz49TU1N+eu//uvyeFNTUz71qU/14syKZ9KkSampqUlTU1M+8pGPJHnrGQCbN2/OV77ylV6e3bujVCpl8eLF2bhxY5544olMmjSpy349AgD6un4X2N+pp59+Ok8//XQ+/vGPZ9SoUfnf//3f/Ou//ms+8IEPpLa2NslbD8qaOnVq6uvrc/vtt2ffvn1ZsWJFFi5cmJEjR/byFZw+r7zySmbNmpWJEyfmjjvuyGuvvVbed2TFq7/25ojdu3dn37592b17dzo7O7Nz584kyQc/+MG85z3v6df9WbZsWerr63P++eeX352xe/fuLs9A6C/eeOON/PKXvyxvv/DCC9m5c2dGjx6diRMnZunSpVm1alUmT56cyZMnZ9WqVRk2bFgWLFjQi7N+99xwww156KGH8sgjj2TEiBHld2ZUVVVl6NChqaio6Pc9AgD6uN56PH3R/fSnPy1dfPHFpdGjR5cqKytL55xzTun6668vvfzyy13qXnzxxdIVV1xRGjp0aGn06NGlG2+8sfT73/++l2b97rj//vtLSY753x/rj7054qqrrjpmf370ox+Va/pzf/793/+99P73v780ePDg0l/+5V+W/0xXf/OjH/3omF8nV111ValUeuvPln3xi18s1dTUlCorK0uf/OQnSz/72c96d9Lvou6+z9x///3lmv7eIwCgb6solf7oCWoAAABAIfS7p8QDAADAmUBgBwAAgAIS2AEAAKCABHYAAAAoIIEdAAAACkhgBwAAgAIS2AEAAKCABHYAAAAoIIEdAAAACkhgBwAAgAIS2AEAAKCABHYAAAAooP8fMBU/aXn/a+sAAAAASUVORK5CYII=",
      "text/plain": [
       "<Figure size 1200x1200 with 4 Axes>"
      ]
     },
     "metadata": {},
     "output_type": "display_data"
    }
   ],
   "source": [
    "# Example: Plotting histograms of all numerical features\n",
    "combined_df[combined_df.columns[1:4]].hist(figsize=(12, 12))\n",
    "plt.show()\n"
   ]
  },
  {
   "cell_type": "markdown",
   "metadata": {},
   "source": [
    "## Possible Biases\n",
    "\n",
    "A potential bias in our dataset could stem from the underrepresentation of storm surges, potentially limiting the accuracy of our model's description. To mitigate this concern, we may consider implementing undersampling in future analyses. This approach could enhance our model's ability to capture and predict storm surge events more effectively."
   ]
  },
  {
   "cell_type": "code",
   "execution_count": 24,
   "metadata": {},
   "outputs": [
    {
     "name": "stdout",
     "output_type": "stream",
     "text": [
      "Our dataset comprises 48  hours of storm surges and 195637 hours which don't belong to storm surges\n"
     ]
    }
   ],
   "source": [
    "storm_surge = np.shape(np.where(combined_df[combined_df.columns[1]].values >= 450)[0])[0]\n",
    "not_storm_surge = np.shape(np.where(combined_df[combined_df.columns[1]].values < 450)[0])[0]\n",
    "\n",
    "print(f'Our dataset comprises {storm_surge}  hours of storm surges and {not_storm_surge} hours which don\\'t belong to storm surges')"
   ]
  },
  {
   "cell_type": "markdown",
   "metadata": {},
   "source": [
    "## Correlations\n",
    "\n",
    "We've observed that there aren't strong correlations between the meridional and zonal wind components, indicating that they don't encode redundant information. Additionally, a very weak correlation has been noted between water level and the zonal wind component This is exactly the connection we want to try and predict with our machine learning Model. "
   ]
  },
  {
   "cell_type": "code",
   "execution_count": 25,
   "metadata": {},
   "outputs": [
    {
     "data": {
      "image/png": "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",
      "text/plain": [
       "<Figure size 640x480 with 2 Axes>"
      ]
     },
     "metadata": {},
     "output_type": "display_data"
    }
   ],
   "source": [
    "# Example: Plotting a heatmap to show feature correlations\n",
    "correlation_matrix = combined_df[combined_df.columns[1:4]].corr()\n",
    "sns.heatmap(correlation_matrix, annot=True)\n",
    "plt.show()\n"
   ]
  }
 ],
 "metadata": {
  "kernelspec": {
   "display_name": "Python 3",
   "language": "python",
   "name": "python3"
  },
  "language_info": {
   "codemirror_mode": {
    "name": "ipython",
    "version": 3
   },
   "file_extension": ".py",
   "mimetype": "text/x-python",
   "name": "python",
   "nbconvert_exporter": "python",
   "pygments_lexer": "ipython3",
   "version": "3.11.5"
  }
 },
 "nbformat": 4,
 "nbformat_minor": 2
}
